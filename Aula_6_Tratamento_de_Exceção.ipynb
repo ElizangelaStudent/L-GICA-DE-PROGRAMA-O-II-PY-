{
  "nbformat": 4,
  "nbformat_minor": 0,
  "metadata": {
    "colab": {
      "provenance": [],
      "collapsed_sections": [],
      "authorship_tag": "ABX9TyM4fJU+bW+7r/gWEmbtKdIt",
      "include_colab_link": true
    },
    "kernelspec": {
      "name": "python3",
      "display_name": "Python 3"
    },
    "language_info": {
      "name": "python"
    }
  },
  "cells": [
    {
      "cell_type": "markdown",
      "metadata": {
        "id": "view-in-github",
        "colab_type": "text"
      },
      "source": [
        "<a href=\"https://colab.research.google.com/github/ElizangelaStudent/L-GICA-DE-PROGRAMA-O-II-PY-/blob/main/Aula_6_Tratamento_de_Exce%C3%A7%C3%A3o.ipynb\" target=\"_parent\"><img src=\"https://colab.research.google.com/assets/colab-badge.svg\" alt=\"Open In Colab\"/></a>"
      ]
    },
    {
      "cell_type": "markdown",
      "source": [
        "##**Aula 6 - Tratamento de Exceção**"
      ],
      "metadata": {
        "id": "156VKRD0wBi2"
      }
    },
    {
      "cell_type": "markdown",
      "source": [
        "###Você já deve ter notado que algumas operações podem dar errado em certas circunstâncias, e esses erros provocam o tratamento do nosso programa.\n",
        "\n",
        "###Por exemplo, quando solicitamos que o usuário digite um número inteiro e ele digita qualquer outra coisa. O erro ocorre especificamente na conversão da entrada para int. Veja o exemplo abaixo:"
      ],
      "metadata": {
        "id": "OsNhgacSwIVe"
      }
    },
    {
      "cell_type": "code",
      "execution_count": 1,
      "metadata": {
        "colab": {
          "base_uri": "https://localhost:8080/",
          "height": 189
        },
        "id": "zfRjBq_rv6gn",
        "outputId": "071a0291-d15e-450c-e89c-0d7c3ab8531e"
      },
      "outputs": [
        {
          "output_type": "error",
          "ename": "ValueError",
          "evalue": "ignored",
          "traceback": [
            "\u001b[0;31m---------------------------------------------------------------------------\u001b[0m",
            "\u001b[0;31mValueError\u001b[0m                                Traceback (most recent call last)",
            "\u001b[0;32m<ipython-input-1-957037cbc521>\u001b[0m in \u001b[0;36m<module>\u001b[0;34m\u001b[0m\n\u001b[1;32m      1\u001b[0m \u001b[0mentrada\u001b[0m \u001b[0;34m=\u001b[0m \u001b[0;34m'olá'\u001b[0m\u001b[0;34m\u001b[0m\u001b[0;34m\u001b[0m\u001b[0m\n\u001b[0;32m----> 2\u001b[0;31m \u001b[0minteiro\u001b[0m \u001b[0;34m=\u001b[0m \u001b[0mint\u001b[0m\u001b[0;34m(\u001b[0m\u001b[0mentrada\u001b[0m\u001b[0;34m)\u001b[0m\u001b[0;34m\u001b[0m\u001b[0;34m\u001b[0m\u001b[0m\n\u001b[0m",
            "\u001b[0;31mValueError\u001b[0m: invalid literal for int() with base 10: 'olá'"
          ]
        }
      ],
      "source": [
        "entrada = 'olá'\n",
        "inteiro = int(entrada)\n"
      ]
    },
    {
      "cell_type": "markdown",
      "source": [
        ">Erro mostrado na tela:  \n",
        "    **ValueError: invalid literal for int() with base 10: 'olá'**\n",
        "\n",
        ">Note que o erro possui um nome, ValueError, e uma mensagem explicando o que ocorreu."
      ],
      "metadata": {
        "id": "gVlAfInWxPrm"
      }
    },
    {
      "cell_type": "code",
      "source": [
        "# outro exemplo\n",
        "\n",
        "2/0"
      ],
      "metadata": {
        "colab": {
          "base_uri": "https://localhost:8080/",
          "height": 207
        },
        "id": "7qf1l4PdxiDF",
        "outputId": "cf1dacfd-2d22-4e05-824c-183e75e1bc3d"
      },
      "execution_count": 2,
      "outputs": [
        {
          "output_type": "error",
          "ename": "ZeroDivisionError",
          "evalue": "ignored",
          "traceback": [
            "\u001b[0;31m---------------------------------------------------------------------------\u001b[0m",
            "\u001b[0;31mZeroDivisionError\u001b[0m                         Traceback (most recent call last)",
            "\u001b[0;32m<ipython-input-2-b513334fe3fa>\u001b[0m in \u001b[0;36m<module>\u001b[0;34m\u001b[0m\n\u001b[1;32m      1\u001b[0m \u001b[0;31m# outro exemplo\u001b[0m\u001b[0;34m\u001b[0m\u001b[0;34m\u001b[0m\u001b[0;34m\u001b[0m\u001b[0m\n\u001b[1;32m      2\u001b[0m \u001b[0;34m\u001b[0m\u001b[0m\n\u001b[0;32m----> 3\u001b[0;31m \u001b[0;36m2\u001b[0m\u001b[0;34m/\u001b[0m\u001b[0;36m0\u001b[0m\u001b[0;34m\u001b[0m\u001b[0;34m\u001b[0m\u001b[0m\n\u001b[0m",
            "\u001b[0;31mZeroDivisionError\u001b[0m: division by zero"
          ]
        }
      ]
    },
    {
      "cell_type": "markdown",
      "source": [
        ">Erro mostrado na tela:\n",
        "  **ZeroDivisionError: division by zero**\n",
        "\n",
        "\n"
      ],
      "metadata": {
        "id": "YFpdC-28x3f0"
      }
    },
    {
      "cell_type": "markdown",
      "source": [
        "##**Try/except**"
      ],
      "metadata": {
        "id": "0smn9LCxyTV2"
      }
    },
    {
      "cell_type": "markdown",
      "source": [
        "###Tratar uma exceção significa que quando surgir um dos erros mencionados, nós iremos assumir responsabilidade sobre ele e iremos providenciar algum código alternativo. Dessa maneira, o Python não irá mais travar o nosso programa, e sim desviar seu fluxo para o código fornecido.\n",
        "\n",
        "###O bloco mais básico para lidarmos com exceção é o **try/except.**\n",
        "\n",
        "###Dentro do **try** vamos colocar o pedaço de código com potencial para dar erro. Estamos pedindo que o Python tente executar aquele código, cientes de que pode não dar certo.\n",
        "\n",
        "###Dentro do **except**, colocamos o código que deverá ser executado somente se algo de errado ocorrer no try. Caso ocorra exceção em alguma linha do try, a execução irá imediatamente para o except, ignorando o restante do código dentro do **try**."
      ],
      "metadata": {
        "id": "jshh_uovyaIW"
      }
    },
    {
      "cell_type": "code",
      "source": [
        "#Exemplo 1\n",
        "\n",
        "try:\n",
        "    num1 = int(input())\n",
        "    num2 = int(input())\n",
        "\n",
        "    div = num1/num2 # 2/0\n",
        "    print(div)\n",
        "except:\n",
        "    print(\"Deu erro\")"
      ],
      "metadata": {
        "colab": {
          "base_uri": "https://localhost:8080/"
        },
        "id": "yC5OWybry0GD",
        "outputId": "3dc35626-7bf8-4dfd-b0ca-bc14b2b68d28"
      },
      "execution_count": 4,
      "outputs": [
        {
          "output_type": "stream",
          "name": "stdout",
          "text": [
            "2\n",
            "0\n",
            "Deu erro\n"
          ]
        }
      ]
    },
    {
      "cell_type": "markdown",
      "source": [
        "  > Vamos observar um exemplo utilizando **try**, **except** e o **finally**.\n",
        "\n",
        "  >**Finally**- O finally garante um local seguro para colocarmos código de limpeza - ou seja, devolver recursos que não serão mais utilizados: fechar arquivos, fechar conexões com servidor etc."
      ],
      "metadata": {
        "id": "ILiVTlkLzFEU"
      }
    },
    {
      "cell_type": "code",
      "source": [
        "def div():\n",
        "    try:\n",
        "        num1 = int(input())\n",
        "        num2 = int(input())\n",
        "        \n",
        "        return num1/num2\n",
        "    except ZeroDivisionError:\n",
        "        print(\"Erro de divisão por zero - NÂO PODE \")\n",
        "        print(f\"Vc quis dividir {num1} por zero!\")\n",
        "    except ValueError:\n",
        "        print(\"Digitou valor errado - NÂO PODE\")\n",
        "    except:\n",
        "        print(\"Um erro qualquer\")\n",
        "    finally:\n",
        "        print(\"ACABOU!\")    "
      ],
      "metadata": {
        "id": "Qav48HCzzCxM"
      },
      "execution_count": 5,
      "outputs": []
    },
    {
      "cell_type": "code",
      "source": [
        "div()\n",
        "div()\n",
        "\n",
        "div()\n",
        "div()\n",
        "div()\n"
      ],
      "metadata": {
        "colab": {
          "base_uri": "https://localhost:8080/"
        },
        "id": "RNzAwJe5zydM",
        "outputId": "69b1a20f-d2f5-4d42-b2cc-0c76dd6a165e"
      },
      "execution_count": 6,
      "outputs": [
        {
          "output_type": "stream",
          "name": "stdout",
          "text": [
            "2\n",
            "3\n",
            "ACABOU!\n",
            "4\n",
            "y\n",
            "Digitou valor errado - NÂO PODE\n",
            "ACABOU!\n",
            "5\n",
            "0\n",
            "Erro de divisão por zero - NÂO PODE \n",
            "Vc quis dividir 5 por zero!\n",
            "ACABOU!\n",
            "um erro qualquer\n",
            "Digitou valor errado - NÂO PODE\n",
            "ACABOU!\n",
            "10\n",
            "2\n",
            "ACABOU!\n"
          ]
        },
        {
          "output_type": "execute_result",
          "data": {
            "text/plain": [
              "5.0"
            ]
          },
          "metadata": {},
          "execution_count": 6
        }
      ]
    },
    {
      "cell_type": "markdown",
      "source": [
        "##**Raise Exception()**"
      ],
      "metadata": {
        "id": "PQmjD5eb0VNe"
      }
    },
    {
      "cell_type": "markdown",
      "source": [
        "###Quando estamos criando nossos próprios módulos, classes ou funções, muitas vezes vamos nos deparar com situações inválidas. Imprimir uma mensagem de erro não é uma boa ideia, pois o programa pode estar rodando em um servidor, pode ter uma interface gráfica, etc.\n",
        "\n",
        "###Logo, o ideal seria lançarmos exceções para sinalizar essas situações. Desta forma, se elas forem ignoradas, o programa irá parar, sinalizando para o programador que existe alguma situação que deveria ser tratada. Adicionalmente, podemos criar nossa própria mensagem de erro, sinalizando para o programador que ele deveria fazer algo a respeito.\n",
        "\n",
        "##Podemos utilizar a palavra **raise** seguida de **Exception()**, passando entre parênteses a mensagem personalizada de erro"
      ],
      "metadata": {
        "id": "UOXWN4Iy0lrD"
      }
    },
    {
      "cell_type": "code",
      "source": [
        "def maior_que_um(valor:int):\n",
        "     if valor<1:\n",
        "         raise Exception(\"O Valor é menor um!!!!\")"
      ],
      "metadata": {
        "id": "HuG2usdi0zLz"
      },
      "execution_count": 7,
      "outputs": []
    },
    {
      "cell_type": "code",
      "source": [
        "maior_que_um(-10) #chamando a função"
      ],
      "metadata": {
        "colab": {
          "base_uri": "https://localhost:8080/",
          "height": 262
        },
        "id": "Ca6YvXAY02Yc",
        "outputId": "2275af28-8124-452c-df88-9ba1ca7b7a02"
      },
      "execution_count": 8,
      "outputs": [
        {
          "output_type": "error",
          "ename": "Exception",
          "evalue": "ignored",
          "traceback": [
            "\u001b[0;31m---------------------------------------------------------------------------\u001b[0m",
            "\u001b[0;31mException\u001b[0m                                 Traceback (most recent call last)",
            "\u001b[0;32m<ipython-input-8-ba30f24a640a>\u001b[0m in \u001b[0;36m<module>\u001b[0;34m\u001b[0m\n\u001b[0;32m----> 1\u001b[0;31m \u001b[0mmaior_que_um\u001b[0m\u001b[0;34m(\u001b[0m\u001b[0;34m-\u001b[0m\u001b[0;36m10\u001b[0m\u001b[0;34m)\u001b[0m \u001b[0;31m#chamando a função\u001b[0m\u001b[0;34m\u001b[0m\u001b[0;34m\u001b[0m\u001b[0m\n\u001b[0m",
            "\u001b[0;32m<ipython-input-7-75d27c654e0c>\u001b[0m in \u001b[0;36mmaior_que_um\u001b[0;34m(valor)\u001b[0m\n\u001b[1;32m      1\u001b[0m \u001b[0;32mdef\u001b[0m \u001b[0mmaior_que_um\u001b[0m\u001b[0;34m(\u001b[0m\u001b[0mvalor\u001b[0m\u001b[0;34m:\u001b[0m\u001b[0mint\u001b[0m\u001b[0;34m)\u001b[0m\u001b[0;34m:\u001b[0m\u001b[0;34m\u001b[0m\u001b[0;34m\u001b[0m\u001b[0m\n\u001b[1;32m      2\u001b[0m      \u001b[0;32mif\u001b[0m \u001b[0mvalor\u001b[0m\u001b[0;34m<\u001b[0m\u001b[0;36m1\u001b[0m\u001b[0;34m:\u001b[0m\u001b[0;34m\u001b[0m\u001b[0;34m\u001b[0m\u001b[0m\n\u001b[0;32m----> 3\u001b[0;31m          \u001b[0;32mraise\u001b[0m \u001b[0mException\u001b[0m\u001b[0;34m(\u001b[0m\u001b[0;34m\"O Valor é menor um!!!!\"\u001b[0m\u001b[0;34m)\u001b[0m\u001b[0;34m\u001b[0m\u001b[0;34m\u001b[0m\u001b[0m\n\u001b[0m",
            "\u001b[0;31mException\u001b[0m: O Valor é menor um!!!!"
          ]
        }
      ]
    },
    {
      "cell_type": "markdown",
      "source": [
        "##**Praticando**"
      ],
      "metadata": {
        "id": "2VNtx9oV1L2y"
      }
    },
    {
      "cell_type": "markdown",
      "source": [
        "###**Crie um programa que receba do usuário:**\n",
        "- Nome\n",
        "- Idade\n",
        "- Peso\n",
        "\n",
        ">Detalhe: \n",
        "- Criei todas as tratativas que julgar Necessárias;\n",
        "- Nome: str\n",
        "- IDade: int\n",
        "- Peso: float"
      ],
      "metadata": {
        "id": "3KWuvRzx1Jkb"
      }
    },
    {
      "cell_type": "code",
      "source": [
        "#Resolução 1\n",
        "\n",
        "def usuario():\n",
        "    try:\n",
        "        nome = str(input(\"Digite o nome: \"))\n",
        "        idade = int(input(\"Digite idade: \"))\n",
        "        peso = float(input(\"Digite peso: \"))\n",
        "    except (ValueError):\n",
        "        print(\"Você inseriu o dado errado, tente novamente.\")\n",
        "    finally:\n",
        "        usuario()"
      ],
      "metadata": {
        "id": "Zkivw7d53K_j"
      },
      "execution_count": null,
      "outputs": []
    },
    {
      "cell_type": "code",
      "source": [
        "usuario() #chamando a função"
      ],
      "metadata": {
        "id": "rlhzXCOi2QXh"
      },
      "execution_count": null,
      "outputs": []
    },
    {
      "cell_type": "code",
      "source": [
        "#Resolução 2\n",
        "\n",
        "def validate_name(nome): # \"Davi Costa Nascimento\"\n",
        "    for n in nome:\n",
        "        if n in '1234567890':\n",
        "            raise Exception(\"Digite um nome, não números!!!!\")\n",
        "\n",
        "\n",
        "def validate_idade(idade): \n",
        "    if idade<18:\n",
        "        raise Exception(\"Não pode de menor!!!\")\n",
        "    elif idade>130:\n",
        "        raise Exception(\"Não existe\")\n",
        "\n",
        "\n",
        "try:\n",
        "    nome = input(\"Digite seu nome: \")\n",
        "    # validate_name(nome)\n",
        "    idade = int(input(\"Digite sua idade: \"))\n",
        "    peso = float(input(\"Digite seu peso: \"))\n",
        "\n",
        "except ValueError:\n",
        "    print(\"Use numeros\")\n",
        "\n",
        "except:\n",
        "    print(\"Use letras\")\n",
        "    "
      ],
      "metadata": {
        "id": "hUnBqHJa293T"
      },
      "execution_count": null,
      "outputs": []
    }
  ]
}