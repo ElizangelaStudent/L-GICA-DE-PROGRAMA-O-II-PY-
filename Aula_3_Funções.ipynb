{
  "nbformat": 4,
  "nbformat_minor": 0,
  "metadata": {
    "colab": {
      "provenance": [],
      "collapsed_sections": [],
      "authorship_tag": "ABX9TyODJG1Rq7T9tEvTE1aPLRzt",
      "include_colab_link": true
    },
    "kernelspec": {
      "name": "python3",
      "display_name": "Python 3"
    },
    "language_info": {
      "name": "python"
    }
  },
  "cells": [
    {
      "cell_type": "markdown",
      "metadata": {
        "id": "view-in-github",
        "colab_type": "text"
      },
      "source": [
        "<a href=\"https://colab.research.google.com/github/ElizangelaStudent/L-GICA-DE-PROGRAMA-O-II-PY-/blob/main/Aula_3_Fun%C3%A7%C3%B5es.ipynb\" target=\"_parent\"><img src=\"https://colab.research.google.com/assets/colab-badge.svg\" alt=\"Open In Colab\"/></a>"
      ]
    },
    {
      "cell_type": "markdown",
      "source": [
        "##**Funções**"
      ],
      "metadata": {
        "id": "-8YvDlKBx8wP"
      }
    },
    {
      "cell_type": "markdown",
      "source": [
        "## Paradigmas de programação\n",
        "\n",
        " - Paradigma -> forma diferente de pensar o seu programa.\n",
        "\n",
        "\n",
        "Até agora vimos:\n",
        "- **Paradigma Imperativo** ou **Programação Imperativa**\n",
        "  > É quando as instruções são executadas sequencialmente. A ideia de um programa como um conjunto sequencial de instruções.\n",
        "\n",
        "- **Programação Estruturada**\n",
        "  >nossos programas não são 100% sequenciais, e conseguimos ramificar o fluxo de execução através de condicionais ou malhas de repetição. O uso dessas técnicas foi uma evolução na forma de programar e é conhecido como programação estruturada.\n",
        "\n",
        "\n",
        "Mas tempos também:\n",
        "- **programação procedural**\n",
        "  >Indo um pouco além, dificilmente escrevemos blocos muito grandes de código de uma vez. Ao longo deste curso, criamos o hábito de modularizar os nossos programas encaixando pequenos pedaços de lógica dentro de funções, que agem como mini-programas, e o nosso programa se desenvolve através da interação entre essas funções. Essa forma de programação é conhecida como programação procedural. A programação procedural é uma forma mais específica de programação imperativa.\n",
        "\n",
        "- **programação orientada a objetos**\n",
        "  > outro paradigma de programação, onde o foco do programa está na modelagem dos nossos programas como resultado da interação entre diferentes objetos, que possuem seu comportamento ditado por suas respectivas classes. Porém, dentro das classes nós desenvolvemos métodos, que são bastante semelhantes às funções que já conhecemos, e portanto, essa também é uma forma de programação imperativa.\n",
        "\n",
        "- **Programação Declarativa** ou **programação funcional**\n",
        "  >Existe todo um conjunto de formas diferentes de programar conhecido como programação declarativa, onde o programador irá se preocupar mais em descrever os resultados desejados do que em enfileirar instruções. O foco está em o que deve ser feito, e não em como deve ser feito. Uma forma de programação declarativa é a programação funcional.\n",
        "\n"
      ],
      "metadata": {
        "id": "RQJKqDhmy_LP"
      }
    },
    {
      "cell_type": "code",
      "source": [
        "#Exemplo de programação imperativa(sequencial)\n",
        "\n",
        "x = 2\n",
        "y = 3\n",
        "soma = x + y\n",
        "print(soma)"
      ],
      "metadata": {
        "colab": {
          "base_uri": "https://localhost:8080/"
        },
        "id": "-iAe1BXW1GMg",
        "outputId": "a19f287d-cf79-4392-a2b2-98711eeda6d5"
      },
      "execution_count": null,
      "outputs": [
        {
          "output_type": "stream",
          "name": "stdout",
          "text": [
            "5\n"
          ]
        }
      ]
    },
    {
      "cell_type": "code",
      "source": [
        "#Exemplo de programação estruturada(estrutura condicional: if, elif, else)\n",
        "\n",
        "x = 2\n",
        "\n",
        "if x==2:\n",
        "    print(\"É dois\")\n",
        "else:\n",
        "    print(\"num É dois\")"
      ],
      "metadata": {
        "colab": {
          "base_uri": "https://localhost:8080/"
        },
        "id": "mgfEwneT1IiA",
        "outputId": "5efac069-0599-41b1-9e87-56ffb2cb95fc"
      },
      "execution_count": null,
      "outputs": [
        {
          "output_type": "stream",
          "name": "stdout",
          "text": [
            "É dois\n"
          ]
        }
      ]
    },
    {
      "cell_type": "code",
      "source": [
        "#Exemplo de programação procedural\n",
        "\n",
        "soma = \"soma\"\n",
        "dividir = \"dividir\"\n",
        "\n",
        "print(soma, dividir)"
      ],
      "metadata": {
        "colab": {
          "base_uri": "https://localhost:8080/"
        },
        "id": "z2GHOxLo1Pg5",
        "outputId": "f1c39919-dd2d-4d9b-82ae-bea7ea38b288"
      },
      "execution_count": null,
      "outputs": [
        {
          "output_type": "stream",
          "name": "stdout",
          "text": [
            "soma dividir\n"
          ]
        }
      ]
    },
    {
      "cell_type": "code",
      "source": [
        "#Exemplo de programação orientada a objetos\n",
        "\n",
        "obj = \"cão\"\n",
        "\n",
        "obj.latir()\n",
        "obj.correr()\n",
        "obj.morder()\n",
        "\n",
        "obj.pelo()\n",
        "obj.fucinho()"
      ],
      "metadata": {
        "id": "WO2ZRqT21ULO"
      },
      "execution_count": null,
      "outputs": []
    },
    {
      "cell_type": "markdown",
      "source": [
        "##**Funções Puras**"
      ],
      "metadata": {
        "id": "GFHjBRmZ2DiC"
      }
    },
    {
      "cell_type": "markdown",
      "source": [
        "###Para evitar o não-determinismo, um conceito importante é o de funções puras. Uma função pura não possui efeitos colaterais, ou seja, seu funcionamento não irá alterar conteúdo na memória (ex: variáveis) ou dispositivos de entrada e saída. Isso traz algumas vantagens:\n",
        "\n",
        "- Se nenhum parâmetro da função causa efeitos colaterais, então a função sempre apresentará o mesmo resultado ao receber os mesmos argumentos.\n",
        "- Se não houver dependência entre os dados de duas funções puras, elas podem ser executadas em paralelo sem causar problemas de concorrência.\n",
        "- Se o retorno de uma função sem efeitos colaterais não está sendo usado, ela pode ser removida sem afetar o restante do programa.\n",
        "\n",
        "###Vejamos alguns exemplos"
      ],
      "metadata": {
        "id": "Ss6XM25K2Ieg"
      }
    },
    {
      "cell_type": "code",
      "source": [
        "def nome_da_funcao(parametros):\n",
        "    # bloco"
      ],
      "metadata": {
        "id": "ena-sn7c2WPX"
      },
      "execution_count": null,
      "outputs": []
    },
    {
      "cell_type": "code",
      "source": [
        "def nome_da_funcao():\n",
        "    pass"
      ],
      "metadata": {
        "id": "OKzHq-x22fZW"
      },
      "execution_count": null,
      "outputs": []
    },
    {
      "cell_type": "code",
      "source": [
        "nome_da_funcao() #para chamar a função, deve colocar o nome que foi atribuido a ela, nesse caso foi colocado\"nome_da_funcao\". E ela não imprimiu nada, pois está vazia"
      ],
      "metadata": {
        "id": "Jjcav3Xi2764"
      },
      "execution_count": null,
      "outputs": []
    },
    {
      "cell_type": "code",
      "source": [
        "#exemplo de quando atribuimos alguma variavel/elemento\n",
        "\n",
        "def imprimir():\n",
        "    print(\"imprimiu\")\n",
        "\n",
        "imprimir() #chamando a função"
      ],
      "metadata": {
        "colab": {
          "base_uri": "https://localhost:8080/"
        },
        "id": "5zW8T1l43ZnA",
        "outputId": "196814ac-6061-4b3f-ddac-f7589af1a28a"
      },
      "execution_count": null,
      "outputs": [
        {
          "output_type": "stream",
          "name": "stdout",
          "text": [
            "imprimiu\n"
          ]
        }
      ]
    },
    {
      "cell_type": "markdown",
      "source": [
        "## **Funções de alta ordem**\n",
        "###Qualquer função que receba ou retorne uma função é considerada uma função de alta ordem"
      ],
      "metadata": {
        "id": "lZ-TkU983xJK"
      }
    },
    {
      "cell_type": "code",
      "source": [
        "def func(x):\n",
        "    print(x)\n",
        "    return x  #Utilizando o return para retornar a função"
      ],
      "metadata": {
        "id": "KdXgutEn36np"
      },
      "execution_count": null,
      "outputs": []
    },
    {
      "cell_type": "code",
      "source": [
        "a = func([1,2,3,4]) #Atribuindo valores para \"func\""
      ],
      "metadata": {
        "colab": {
          "base_uri": "https://localhost:8080/"
        },
        "id": "q26VTO3C3_Ct",
        "outputId": "e249d577-86aa-4350-8c9f-cb576869d11e"
      },
      "execution_count": null,
      "outputs": [
        {
          "output_type": "stream",
          "name": "stdout",
          "text": [
            "[1, 2, 3, 4]\n"
          ]
        }
      ]
    },
    {
      "cell_type": "code",
      "source": [
        "a #chamando a função"
      ],
      "metadata": {
        "colab": {
          "base_uri": "https://localhost:8080/"
        },
        "id": "f-B_xXBg4A92",
        "outputId": "f29c3923-e520-4b01-93e4-4ac560921752"
      },
      "execution_count": null,
      "outputs": [
        {
          "output_type": "execute_result",
          "data": {
            "text/plain": [
              "[1, 2, 3, 4]"
            ]
          },
          "metadata": {},
          "execution_count": 12
        }
      ]
    },
    {
      "cell_type": "markdown",
      "source": [
        "##**Variáveis Globais x Variáveis Locais**"
      ],
      "metadata": {
        "id": "JS5NhsOj4fgh"
      }
    },
    {
      "cell_type": "markdown",
      "source": [
        "###**Variáveis Globais**\n",
        "\n",
        "    >Variáveis ​​globais são aquelas que são definidas e declaradas fora de uma função e precisamos usá-las dentro de uma função."
      ],
      "metadata": {
        "id": "-li0w0MU4j6J"
      }
    },
    {
      "cell_type": "markdown",
      "source": [
        "###**Variáveis Locais**\n",
        " \n",
        "    >Variáveis locais são aquelas declaradas dentro das funções, assim, elas não podem ser chamadas fora da função."
      ],
      "metadata": {
        "id": "kV8BvOS77gOg"
      }
    },
    {
      "cell_type": "code",
      "source": [
        "#Exemplo\n",
        "\n",
        "def f(x):\n",
        "    x = x +1 # local\n",
        "    z = 2\n",
        "    print(z)\n",
        "    print(x)"
      ],
      "metadata": {
        "id": "fsZaVmNo7xrX"
      },
      "execution_count": null,
      "outputs": []
    },
    {
      "cell_type": "code",
      "source": [
        "f(7) #atribuindo o valor"
      ],
      "metadata": {
        "colab": {
          "base_uri": "https://localhost:8080/"
        },
        "id": "2IoTt0LP7-6J",
        "outputId": "571593e7-30b0-40e6-f41f-e00d52dd134b"
      },
      "execution_count": null,
      "outputs": [
        {
          "output_type": "stream",
          "name": "stdout",
          "text": [
            "2\n",
            "8\n"
          ]
        }
      ]
    },
    {
      "cell_type": "code",
      "source": [
        "x # Global"
      ],
      "metadata": {
        "colab": {
          "base_uri": "https://localhost:8080/"
        },
        "id": "Pz0k14LW8ETX",
        "outputId": "646b4714-39ba-4002-9f0e-5be90ec1fadc"
      },
      "execution_count": null,
      "outputs": [
        {
          "output_type": "execute_result",
          "data": {
            "text/plain": [
              "2"
            ]
          },
          "metadata": {},
          "execution_count": 15
        }
      ]
    },
    {
      "cell_type": "markdown",
      "source": [
        "##**Praticando**"
      ],
      "metadata": {
        "id": "J6jSNqsq8U1I"
      }
    },
    {
      "cell_type": "markdown",
      "source": [
        "###**Crie um programa, utilizando funções, que receba 2 números e imprima respectivamente a soma, multiplicação, subtração e divisão dos mesmos.**"
      ],
      "metadata": {
        "id": "bzzjInxGz-rJ"
      }
    },
    {
      "cell_type": "code",
      "source": [
        "#Resolução 1\n",
        "\n",
        "def operacao(x, y):\n",
        "    soma = x+y\n",
        "    multi = x*y\n",
        "    sub = x - y\n",
        "    div = x/y\n",
        "\n",
        "    print(soma)\n",
        "    print(multi)\n",
        "    print(sub)\n",
        "    print(div)\n",
        "\n",
        "operacao(3,2) # chamando a função e atribuindo valor a X e Y"
      ],
      "metadata": {
        "colab": {
          "base_uri": "https://localhost:8080/"
        },
        "id": "c0sjknxd8cOv",
        "outputId": "d38acc59-bca4-4f6b-c8c5-58e57ab5cb89"
      },
      "execution_count": null,
      "outputs": [
        {
          "output_type": "stream",
          "name": "stdout",
          "text": [
            "5\n",
            "6\n",
            "1\n",
            "1.5\n"
          ]
        }
      ]
    },
    {
      "cell_type": "code",
      "source": [
        "#Resolução 2\n",
        "\n",
        "def sub(x, y):\n",
        "    return x - y\n",
        "\n",
        "def multi(x, y):\n",
        "    return x * y\n",
        "\n",
        "def div(x, y):\n",
        "    return x / y\n",
        "\n",
        "def soma(x, y):\n",
        "    return sum([x,y])\n",
        "\n",
        "def operacoes(x, y):\n",
        "    s = soma(x, y)\n",
        "    su = sub(x, y)\n",
        "    m = multi(x, y)\n",
        "    d = div(x, y)\n",
        "    return [s, su, m, d]\n",
        "\n",
        "def imprimir_resultado(x,y):\n",
        "    l = [\"soma\", \"subtração\",\"multiplicação\",\"divisão\"]\n",
        "    r = operacoes(x, y)\n",
        "\n",
        "    for i, j in zip(l,r):\n",
        "        print(f\"{i}: {j}\")\n",
        "\n",
        "imprimir_resultado(3,2)"
      ],
      "metadata": {
        "colab": {
          "base_uri": "https://localhost:8080/"
        },
        "id": "U02viIlt8vA4",
        "outputId": "0b3643c8-235b-40af-8b48-807f326025e1"
      },
      "execution_count": null,
      "outputs": [
        {
          "output_type": "stream",
          "name": "stdout",
          "text": [
            "soma: 5\n",
            "subtração: 1\n",
            "multiplicação: 6\n",
            "divisão: 1.5\n"
          ]
        }
      ]
    },
    {
      "cell_type": "markdown",
      "source": [
        "###**Utilizando funções, crie um programa em que o usuário escolha entre a tabuada de adição e multiplicação, receba um número inteiro e imprima a tabuada tala como:**\n",
        "5 X 1 = 5\n",
        "\n",
        "5 X 2 = 10\n",
        "\n",
        "5 X 3 = 15\n",
        "\n",
        "5 X 4 = 20\n",
        "\n",
        "5 X 5 = 25\n",
        "\n",
        "5 X 6 = 30\n",
        "\n",
        "5 X 7 = 35\n",
        "\n",
        "5 X 8 = 40\n",
        "\n",
        "5 X 9 = 45\n",
        "\n",
        "5 X 10 = 50"
      ],
      "metadata": {
        "id": "z9Gfu7py0BWg"
      }
    },
    {
      "cell_type": "code",
      "source": [
        "def menu_tabuada():\n",
        "                print('-='*30)\n",
        "                print(\"Bem vindos ao nosso sistema especializado em tabuadas: \") \n",
        "                print(\"\") \n",
        "                print(f\"1 -Tabuada de Adição\\n2 -Tabuada de Subtração\\n3 -Tabuada de Multiplicação\\n4 -Tabuada de divisão\\n5 -Sair do Sistema de tabuadas\\n\")\n",
        "                print('-='*30)\n",
        "\n",
        "menu_tabuada()\n",
        "\n",
        "while True:\n",
        "\n",
        "    y = int(input('Escolha uma opção: > [1] [2] [3] [4] [5] : '))\n",
        "   \n",
        "    while y  > 5 or y  < 0:\n",
        "     y = int(input('[Opção invalida, tente novamente!] Escolha uma opção: '))  \n",
        "    \n",
        "    if y == 1:\n",
        "     tabuada_adicao()\n",
        "    elif y == 2:\n",
        "     tabuada_subtracao()\n",
        "    elif y == 3:\n",
        "     tabuada_multiplicacao()\n",
        "    elif y == 4:\n",
        "     tabuada_divisao()\n",
        "    else:\n",
        "     print('')\n",
        "     print('[Saindo do sistema de tabuadas!]')\n",
        "     print('')\n",
        "     break\n",
        "    \n",
        "\n",
        "def tabuada_adicao():\n",
        "  while True:\n",
        "    print(f\"Tabuada de adição\\n\")\n",
        "    numero = int(input('Informe o numero que você deseja realizar a tabuada:'))\n",
        "\n",
        "    for i in range(1,11):\n",
        "       print(f\"{numero}+{i} = {numero+i}\")\n",
        "        \n",
        "    opcao = input('Deseja escolher outro número?(S/N): ').strip().lower()\n",
        "    if(opcao == 'n'):\n",
        "     return menu_tabuada()\n",
        "  \n",
        "\n",
        "def tabuada_subtracao():\n",
        "  while True:\n",
        "    print(f\"Tabuada de subtração\\n\")\n",
        "    numero = int(input('Informe o numero que você deseja realizar a tabuada:'))\n",
        "\n",
        "    for i in range(1,11):\n",
        "       print(f\"{numero}-{i} = {numero-i}\")\n",
        "        \n",
        "    opcao = input('Deseja escolher outro número?(S/N): ').strip().lower()\n",
        "    if(opcao == 'n'): \n",
        "     return menu_tabuada()\n",
        "  \n",
        "def tabuada_multiplicacao():\n",
        "  while True:\n",
        "    print(f\"Tabuada de multiplicação\\n\")\n",
        "    numero = int(input('Informe o numero que você deseja realizar a tabuada:'))\n",
        "\n",
        "    for i in range(1,11):\n",
        "       print(f\"{numero}x{i} = {numero*i}\")\n",
        "        \n",
        "    opcao = input('Deseja escolher outro número?(S/N): ').strip().lower()\n",
        "    if(opcao == 'n'): \n",
        "     return menu_tabuada()\n",
        "  \n",
        "    \n",
        "def tabuada_divisao():\n",
        "  while True:\n",
        "    print(f\"Tabuada de divisão\\n\")\n",
        "    numero = int(input('Informe o numero que você deseja realizar a tabuada:'))\n",
        "\n",
        "    for i in range(1,11):\n",
        "       print(f\"{numero}/{i} = {numero/i}\")\n",
        "        \n",
        "    opcao = input('Deseja escolher outro número?(S/N): ').strip().lower()\n",
        "    if(opcao == 'n'): \n",
        "     return menu_tabuada()"
      ],
      "metadata": {
        "colab": {
          "base_uri": "https://localhost:8080/"
        },
        "id": "MyTNWiiJY2zG",
        "outputId": "8f1cdd34-6334-4299-afed-bd444669d19a"
      },
      "execution_count": null,
      "outputs": [
        {
          "output_type": "stream",
          "name": "stdout",
          "text": [
            "-=-=-=-=-=-=-=-=-=-=-=-=-=-=-=-=-=-=-=-=-=-=-=-=-=-=-=-=-=-=\n",
            "Bem vindos ao nosso sistema especializado em tabuadas: \n",
            "\n",
            "1 -Tabuada de Adição\n",
            "2 -Tabuada de Subtração\n",
            "3 -Tabuada de Multiplicação\n",
            "4 -Tabuada de divisão\n",
            "5 -Sair do Sistema de tabuadas\n",
            "\n",
            "-=-=-=-=-=-=-=-=-=-=-=-=-=-=-=-=-=-=-=-=-=-=-=-=-=-=-=-=-=-=\n",
            "Escolha uma opção: > [1] [2] [3] [4] [5] : 3\n",
            "Tabuada de multiplicação\n",
            "\n",
            "Informe o numero que você deseja realizar a tabuada:5\n",
            "5x1 = 5\n",
            "5x2 = 10\n",
            "5x3 = 15\n",
            "5x4 = 20\n",
            "5x5 = 25\n",
            "5x6 = 30\n",
            "5x7 = 35\n",
            "5x8 = 40\n",
            "5x9 = 45\n",
            "5x10 = 50\n",
            "Deseja escolher outro número?(S/N): n\n",
            "-=-=-=-=-=-=-=-=-=-=-=-=-=-=-=-=-=-=-=-=-=-=-=-=-=-=-=-=-=-=\n",
            "Bem vindos ao nosso sistema especializado em tabuadas: \n",
            "\n",
            "1 -Tabuada de Adição\n",
            "2 -Tabuada de Subtração\n",
            "3 -Tabuada de Multiplicação\n",
            "4 -Tabuada de divisão\n",
            "5 -Sair do Sistema de tabuadas\n",
            "\n",
            "-=-=-=-=-=-=-=-=-=-=-=-=-=-=-=-=-=-=-=-=-=-=-=-=-=-=-=-=-=-=\n",
            "Escolha uma opção: > [1] [2] [3] [4] [5] : 1\n",
            "Tabuada de adição\n",
            "\n",
            "Informe o numero que você deseja realizar a tabuada:6\n",
            "6+1 = 7\n",
            "6+2 = 8\n",
            "6+3 = 9\n",
            "6+4 = 10\n",
            "6+5 = 11\n",
            "6+6 = 12\n",
            "6+7 = 13\n",
            "6+8 = 14\n",
            "6+9 = 15\n",
            "6+10 = 16\n",
            "Deseja escolher outro número?(S/N): n\n",
            "-=-=-=-=-=-=-=-=-=-=-=-=-=-=-=-=-=-=-=-=-=-=-=-=-=-=-=-=-=-=\n",
            "Bem vindos ao nosso sistema especializado em tabuadas: \n",
            "\n",
            "1 -Tabuada de Adição\n",
            "2 -Tabuada de Subtração\n",
            "3 -Tabuada de Multiplicação\n",
            "4 -Tabuada de divisão\n",
            "5 -Sair do Sistema de tabuadas\n",
            "\n",
            "-=-=-=-=-=-=-=-=-=-=-=-=-=-=-=-=-=-=-=-=-=-=-=-=-=-=-=-=-=-=\n",
            "Escolha uma opção: > [1] [2] [3] [4] [5] : 5\n",
            "\n",
            "[Saindo do sistema de tabuadas!]\n",
            "\n"
          ]
        }
      ]
    },
    {
      "cell_type": "markdown",
      "source": [
        "##**Funções anônimas**\n",
        "\n",
        "Outro conceito bastante comum na programação funcional é o de **funções anônimas**, também conhecidas como **funções lambda**. Elas são funções que não necessariamente precisam ser declaradas - no caso do Python, utilizando a palavra def - e atribuídas para um nome. A sintaxe para criar uma função lambda em Python é:\n",
        "\n",
        "```python\n",
        "lambda parametro1, parametro2... : expressao\n",
        "```"
      ],
      "metadata": {
        "id": "_b749WUy9T_s"
      }
    },
    {
      "cell_type": "code",
      "source": [
        "#Utilizando def\n",
        "\n",
        "def g(x):\n",
        "    return x**2\n",
        "\n",
        "g(2)"
      ],
      "metadata": {
        "colab": {
          "base_uri": "https://localhost:8080/"
        },
        "id": "YWfRPH2d99ln",
        "outputId": "54c87c87-9466-466f-c73e-dc2e25cb32df"
      },
      "execution_count": null,
      "outputs": [
        {
          "output_type": "execute_result",
          "data": {
            "text/plain": [
              "4"
            ]
          },
          "metadata": {},
          "execution_count": 19
        }
      ]
    },
    {
      "cell_type": "code",
      "source": [
        "#utilizando lambda\n",
        "\n",
        "def g(x):\n",
        "    return x**2\n",
        "\n",
        "b = g(2) #atribuimos o valor\n",
        "b = lambda x: x**2  #chamamos a função lambda\n"
      ],
      "metadata": {
        "id": "7FK4ZZwC-FH5"
      },
      "execution_count": null,
      "outputs": []
    },
    {
      "cell_type": "code",
      "source": [
        "x =7 #Definimos o valor para x\n",
        "\n",
        "\n"
      ],
      "metadata": {
        "id": "pu9lwZtR-tZj"
      },
      "execution_count": null,
      "outputs": []
    },
    {
      "cell_type": "markdown",
      "source": [
        "##**Praticando**\n",
        "\n",
        "\n",
        "###**Usando funções anômimas, faça um programa, que receba três argumentos, e que forneça a soma desses três argumentos.**"
      ],
      "metadata": {
        "id": "QvWPjjBo_dww"
      }
    },
    {
      "cell_type": "code",
      "source": [
        "#Resolução 1\n",
        "\n",
        "def soma(w,y,z):\n",
        "    return (w + y + z)\n",
        "\n",
        "soma_lambda = lambda w,y,z: w + y + z\n",
        "\n",
        "def menu():\n",
        "   w = int(input('Informe o valor para w: '))\n",
        "   y = int(input('Informe o valor para y: '))\n",
        "   z= int(input('Informe o valor para z: '))\n",
        "   print(f\"A soma dos três argumentos é {soma_lambda(w,y,z)} \")\n",
        "\n",
        "\n",
        "while True:\n",
        "      menu()\n",
        "      break"
      ],
      "metadata": {
        "colab": {
          "base_uri": "https://localhost:8080/"
        },
        "id": "NFgINOvRmzMW",
        "outputId": "8291aabe-0015-4e56-c122-7d10a0b1259e"
      },
      "execution_count": null,
      "outputs": [
        {
          "output_type": "stream",
          "name": "stdout",
          "text": [
            "Informe o valor para w: 50\n",
            "Informe o valor para y: 100\n",
            "Informe o valor para z: 20\n",
            "A soma dos três argumentos é 170 \n"
          ]
        }
      ]
    },
    {
      "cell_type": "code",
      "source": [
        "#Resolução 2\n",
        "\n",
        "def soma(w,y,z):\n",
        "  return (w + y + z)\n",
        "     \n",
        "soma_lambda = lambda w,y,z: w + y + z\n",
        "  \n",
        "w = int(input('Informe o valor para w: '))\n",
        "y = int(input('Informe o valor para y: '))\n",
        "z= int(input('Informe o valor para z: '))\n",
        "print(f\"A soma dos três argumentos é {soma_lambda(w,y,z)} \")\n",
        "\n",
        "\n"
      ],
      "metadata": {
        "colab": {
          "base_uri": "https://localhost:8080/"
        },
        "id": "QMq5AMKPLu0s",
        "outputId": "ad391d9d-af57-4c1e-d8bd-967bd396efd3"
      },
      "execution_count": null,
      "outputs": [
        {
          "output_type": "stream",
          "name": "stdout",
          "text": [
            "Informe o valor para w: 50\n",
            "Informe o valor para y: 20\n",
            "Informe o valor para z: 120\n",
            "A soma dos três argumentos é 190 \n"
          ]
        }
      ]
    },
    {
      "cell_type": "markdown",
      "source": [
        "##**Funções de alta ordem em coleções**"
      ],
      "metadata": {
        "id": "AlFcVBfK_2Ig"
      }
    },
    {
      "cell_type": "markdown",
      "source": [
        "   >Qualquer função que receba ou retorne uma função é considerada uma função de alta ordem. Mas três funções de alta ordem são consideradas bastante importantes porque permitem realizar diversas operações úteis sobre coleções (listas, arrays, tuplas, etc). Elas resolvem problemas tradicionais envolvendo as coleções, mas sem a necessidade de utilizar loops. Além disso, elas sempre irão retornar uma nova lista ou um valor, não alterando o conteúdo da função original. Elas são as funções **map, filter e reduce**."
      ],
      "metadata": {
        "id": "q0EXTqNyAeFH"
      }
    },
    {
      "cell_type": "markdown",
      "source": [
        "###**Map**\n",
        "\n",
        "###A função map recebe uma função e uma coleção. Ela irá aplicar a função recebida sobre cada um dos elementos da coleção, retornando uma nova coleção com os retornos de cada uma dessas chamadas.\n",
        "\n",
        "###Em Python, a função map retorna um iterador, então cabe a nós convertê-lo para uma estrutura caso necessário, como lista ou tupla.\n",
        "\n",
        ">Em resumo o map:\n",
        "\n",
        "-  função map recebe uma função e uma coleção\n",
        "-  aplicar a função recebida sobre cada um dos elementos da coleção\n",
        "- retornando uma nova coleção com os retornos de cada uma dessas chamadas.\n"
      ],
      "metadata": {
        "id": "-Mvy_FFzAjpm"
      }
    },
    {
      "cell_type": "code",
      "source": [
        "def plus(x):\n",
        "    return x + 1\n",
        "\n",
        "\n",
        "l = [1,2,3,4]\n",
        "\n",
        "ll = []\n",
        "\n",
        "# for i in l:\n",
        "#     ll.append(plus(i))\n",
        "\n",
        "ll"
      ],
      "metadata": {
        "colab": {
          "base_uri": "https://localhost:8080/"
        },
        "id": "tI62DzmsBIKc",
        "outputId": "3ad18a78-9e0a-43ba-d111-cbd283e6d355"
      },
      "execution_count": null,
      "outputs": [
        {
          "output_type": "execute_result",
          "data": {
            "text/plain": [
              "[]"
            ]
          },
          "metadata": {},
          "execution_count": 30
        }
      ]
    },
    {
      "cell_type": "code",
      "source": [
        "tuple(map(plus, l))"
      ],
      "metadata": {
        "colab": {
          "base_uri": "https://localhost:8080/"
        },
        "id": "tftZ2nRoBTse",
        "outputId": "6c88ce57-97ba-4811-cd15-10b4cacd26e4"
      },
      "execution_count": null,
      "outputs": [
        {
          "output_type": "execute_result",
          "data": {
            "text/plain": [
              "(2, 3, 4, 5)"
            ]
          },
          "metadata": {},
          "execution_count": 31
        }
      ]
    },
    {
      "cell_type": "code",
      "source": [
        "list(map(lambda x: x+1, l)) #podemos utilizar o lambda junto com a função map"
      ],
      "metadata": {
        "colab": {
          "base_uri": "https://localhost:8080/"
        },
        "id": "_rczrQBZBdD2",
        "outputId": "d7b114cd-7b0a-43d6-eea3-dd5cf0db1a17"
      },
      "execution_count": null,
      "outputs": [
        {
          "output_type": "execute_result",
          "data": {
            "text/plain": [
              "[2, 3, 4, 5]"
            ]
          },
          "metadata": {},
          "execution_count": 32
        }
      ]
    },
    {
      "cell_type": "markdown",
      "source": [
        "### **Filter**\n",
        "\n",
        "###A função filter também recebe uma função que deve retornar um booleano e uma coleção. Ela irá conter apenas os elementos da coleção que provocaram valor True na função passada.\n",
        "\n",
        ">Em resumo:\n",
        "\n",
        "-  recebe uma função que deve retornar um booleano e uma coleção\n",
        "- Ela irá conter apenas os elementos da coleção que provocaram valor **True** na função passada"
      ],
      "metadata": {
        "id": "7GJY1ky2BmaP"
      }
    },
    {
      "cell_type": "code",
      "source": [
        "def par(x):\n",
        "    return x % 2 == 0 # bool\n",
        "\n",
        "\n",
        "l = [2,22,3,5,7,9,10,45,30,56]\n",
        "p = []\n",
        "\n",
        "for i in l: #está indicando que \"I\" está contido em \"l\"\n",
        "    if par(i): #numeros pares\n",
        "        p.append(i) #está pedindo que todos os numeros pares que está em \"I\" seja adicionado na lista \"p\"\n",
        "\n",
        "p #chamando a função"
      ],
      "metadata": {
        "colab": {
          "base_uri": "https://localhost:8080/"
        },
        "id": "hRUVDI3VCFrq",
        "outputId": "b7d298d1-7caa-4d01-8c90-b3f56ac072a2"
      },
      "execution_count": null,
      "outputs": [
        {
          "output_type": "execute_result",
          "data": {
            "text/plain": [
              "[2, 22, 10, 30, 56]"
            ]
          },
          "metadata": {},
          "execution_count": 34
        }
      ]
    },
    {
      "cell_type": "code",
      "source": [
        "list(filter(par, l)) #utilizando o filter"
      ],
      "metadata": {
        "colab": {
          "base_uri": "https://localhost:8080/"
        },
        "id": "sT4spJxlC9GJ",
        "outputId": "f8c6cb74-8d55-4201-d9ca-1e13a10cf870"
      },
      "execution_count": null,
      "outputs": [
        {
          "output_type": "execute_result",
          "data": {
            "text/plain": [
              "[2, 22, 10, 30, 56]"
            ]
          },
          "metadata": {},
          "execution_count": 35
        }
      ]
    },
    {
      "cell_type": "code",
      "source": [
        "list(filter(lambda x: x % 2 == 0 , l)) #utilizando lambda junto com filter"
      ],
      "metadata": {
        "colab": {
          "base_uri": "https://localhost:8080/"
        },
        "id": "NK-Vm58xDBG4",
        "outputId": "3a56a03f-be8c-4526-e328-1c226c8a9235"
      },
      "execution_count": null,
      "outputs": [
        {
          "output_type": "execute_result",
          "data": {
            "text/plain": [
              "[2, 22, 10, 30, 56]"
            ]
          },
          "metadata": {},
          "execution_count": 36
        }
      ]
    },
    {
      "cell_type": "markdown",
      "source": [
        "\n",
        "  **⚠️ ATENÇÃO**: Talvez você já tenha percebido, mas quando usamos **#** em Python simboliza que estamos começando um **comentário**. Ou seja, tudo o que está escrito depois de **#** não será executado. É uma boa maneira de deixar o código organizado e de fácil entendimento para outras pessoas. (Isso não tem nada a ver com o tópico de funções mas é muito importante)."
      ],
      "metadata": {
        "id": "8IbQjh4mDXrF"
      }
    }
  ]
}