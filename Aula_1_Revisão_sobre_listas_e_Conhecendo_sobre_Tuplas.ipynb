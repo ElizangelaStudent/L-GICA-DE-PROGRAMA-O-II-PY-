{
  "nbformat": 4,
  "nbformat_minor": 0,
  "metadata": {
    "colab": {
      "provenance": [],
      "collapsed_sections": [],
      "authorship_tag": "ABX9TyORDbCMlvxnOj8itgOkgH7I",
      "include_colab_link": true
    },
    "kernelspec": {
      "name": "python3",
      "display_name": "Python 3"
    },
    "language_info": {
      "name": "python"
    }
  },
  "cells": [
    {
      "cell_type": "markdown",
      "metadata": {
        "id": "view-in-github",
        "colab_type": "text"
      },
      "source": [
        "<a href=\"https://colab.research.google.com/github/ElizangelaStudent/L-GICA-DE-PROGRAMA-O-II-PY-/blob/main/Aula_1_Revis%C3%A3o_sobre_listas_e_Conhecendo_sobre_Tuplas.ipynb\" target=\"_parent\"><img src=\"https://colab.research.google.com/assets/colab-badge.svg\" alt=\"Open In Colab\"/></a>"
      ]
    },
    {
      "cell_type": "markdown",
      "source": [
        "##**Revisão de listas**"
      ],
      "metadata": {
        "id": "t3lws5i2yFOn"
      }
    },
    {
      "cell_type": "markdown",
      "source": [
        "##**Criando uma lista e acessando elementos**"
      ],
      "metadata": {
        "id": "yEemE7fkyO6d"
      }
    },
    {
      "cell_type": "markdown",
      "source": [
        "A lista é uma coleção de objetos em Python. Criando uma única variável para representar a lista, podemos armazenar múltiplos valores. Internamente, esses valores são representados por seus índices: um número inteiro, iniciando em zero e incrementando com passo unitário.\n",
        "\n",
        "Podemos criar uma lista através da função list ou utilizando um par de colchetes:"
      ],
      "metadata": {
        "id": "8_MWoFoByZnd"
      }
    },
    {
      "cell_type": "code",
      "source": [
        "lista1 = list() # uma lista vazia\n",
        "\n",
        "lista2 = [] # outra lista vazia\n",
        "\n",
        "linguagens = ['Python', 'JavaScript', 'SQL'] # uma lista com 3 elementos\n",
        "\n",
        "dados_variados = [3.14, 1000, True, 'abacate'] # uma lista com dados de tipos diversos\n",
        "\n",
        "lista_de_listas = [ ['Curso', 'Módulo 1', 'Módulo 2'], ['Data Science', 'Lógica de Programação I', 'Lógica de Programação II'], ['Web Full Stack', 'Front End Estático', 'Front End Dinâmico']]\n",
        "\n",
        "print(linguagens[0]) # imprime \"Python\"\n",
        "print(linguagens[1]) # imprime \"JavaScript\"\n",
        "print(dados_variados[2]) # imprime True\n",
        "print(lista_de_listas[2][0]) # imprime \"Web Full Stack\""
      ],
      "metadata": {
        "colab": {
          "base_uri": "https://localhost:8080/"
        },
        "id": "uDJ40aYByrgm",
        "outputId": "f810ba5f-e737-4e70-bfdc-b605b7af436b"
      },
      "execution_count": null,
      "outputs": [
        {
          "output_type": "stream",
          "name": "stdout",
          "text": [
            "Python\n",
            "JavaScript\n",
            "True\n",
            "Web Full Stack\n"
          ]
        }
      ]
    },
    {
      "cell_type": "markdown",
      "source": [
        "##**Iterando uma lista**"
      ],
      "metadata": {
        "id": "WoLwRB3Fy674"
      }
    },
    {
      "cell_type": "markdown",
      "source": [
        "###Como os elementos em uma lista são representados por números inteiros, podemos facilmente percorrê-la variando seu índice de maneira automatizada:\n",
        "\n"
      ],
      "metadata": {
        "id": "TgdkZYItJt1x"
      }
    },
    {
      "cell_type": "code",
      "source": [
        "for indice in range(4):\n",
        "    print(dados_variados[indice])\n"
      ],
      "metadata": {
        "colab": {
          "base_uri": "https://localhost:8080/"
        },
        "id": "m2XxRKbzJxFL",
        "outputId": "f2db3024-44bd-4281-cc35-4871b948bbdf"
      },
      "execution_count": null,
      "outputs": [
        {
          "output_type": "stream",
          "name": "stdout",
          "text": [
            "3.14\n",
            "1000\n",
            "True\n",
            "abacate\n"
          ]
        }
      ]
    },
    {
      "cell_type": "markdown",
      "source": [
        ">Apesar de funcionar, essa forma é considerada pouco legível. Existe uma maneira mais direta de percorrer uma lista. Ao trocarmos a função range do nosso for pela própria lista, ele irá copiar cada elemento da lista para a variável temporária. Assim conseguimos facilmente, e de maneira bem legível, acessar todos os elementos de uma lista:\n",
        "\n"
      ],
      "metadata": {
        "id": "9ByJiIs6Jzjr"
      }
    },
    {
      "cell_type": "code",
      "source": [
        "for elemento in dados_variados:\n",
        "    print(elemento)\n"
      ],
      "metadata": {
        "colab": {
          "base_uri": "https://localhost:8080/"
        },
        "id": "W7W3zGnGJ24p",
        "outputId": "0153e55a-12ef-41b2-b313-cc7dfaa54452"
      },
      "execution_count": null,
      "outputs": [
        {
          "output_type": "stream",
          "name": "stdout",
          "text": [
            "3.14\n",
            "1000\n",
            "True\n",
            "abacate\n"
          ]
        }
      ]
    },
    {
      "cell_type": "markdown",
      "source": [
        ">Caso tenhamos listas aninhadas, podemos percorrê-las aninhando loops. Utilizamos um loop para cada \"nível\" de lista. Execute o bloco abaixo e veja seu resultado na tela:\n",
        "\n"
      ],
      "metadata": {
        "id": "e_14z31zJ2FC"
      }
    },
    {
      "cell_type": "code",
      "source": [
        "for linha in lista_de_listas:\n",
        "    for elemento in linha:\n",
        "        print(elemento)"
      ],
      "metadata": {
        "colab": {
          "base_uri": "https://localhost:8080/"
        },
        "id": "njlL2RnpJ8-q",
        "outputId": "c6dc37f7-1d8d-4967-e909-60ed5760d539"
      },
      "execution_count": null,
      "outputs": [
        {
          "output_type": "stream",
          "name": "stdout",
          "text": [
            "Curso\n",
            "Módulo 1\n",
            "Módulo 2\n",
            "Data Science\n",
            "Lógica de Programação I\n",
            "Lógica de Programação II\n",
            "Web Full Stack\n",
            "Front End Estático\n",
            "Front End Dinâmico\n"
          ]
        }
      ]
    },
    {
      "cell_type": "markdown",
      "source": [
        "##**Fatiamento da lista**"
      ],
      "metadata": {
        "id": "lId4Ar3GKVF5"
      }
    },
    {
      "cell_type": "markdown",
      "source": [
        "###Uma operação bastante comum em uma lista é extrair apenas uma parte dela, conhecido como fatiamento. Para isso você deve informar, pelo menos, o índice inicial e o índice final, sendo que o índice final não irá entrar na conta - dizemos que ele é um valor \"exclusivo\", como se fosse um intervalo aberto naquele ponto."
      ],
      "metadata": {
        "id": "LzCBtS4cKssa"
      }
    },
    {
      "cell_type": "code",
      "source": [
        "frutas = ['abacate', 'banana', 'carambola', 'damasco', 'embaúba', 'framboesa', 'goiaba']\n",
        "\n",
        "algumas_frutas = frutas[2:5] \n",
        "\n",
        "print(algumas_frutas) # resultado: ['carambola', 'damasco', 'embaúba']\n"
      ],
      "metadata": {
        "colab": {
          "base_uri": "https://localhost:8080/"
        },
        "id": "7U8nFF4SK5p_",
        "outputId": "9a4e7a51-9ccd-470c-fa7c-fa63c8204aab"
      },
      "execution_count": null,
      "outputs": [
        {
          "output_type": "stream",
          "name": "stdout",
          "text": [
            "['carambola', 'damasco', 'embaúba']\n"
          ]
        }
      ]
    },
    {
      "cell_type": "markdown",
      "source": [
        ">Você pode deixar um dos dois índices em branco. Na ausência do primeiro índice, a operação se iniciará com o índice 0 da lista original. Na ausência do segundo, a operação seguirá até o final da lista original.\n"
      ],
      "metadata": {
        "id": "JSa_2AdOK-1S"
      }
    },
    {
      "cell_type": "code",
      "source": [
        "primeiras3 = frutas[:3]\n",
        "print(primeiras3)\n",
        "\n",
        "ultimas3 = frutas[4:]\n",
        "print(ultimas3)\n"
      ],
      "metadata": {
        "colab": {
          "base_uri": "https://localhost:8080/"
        },
        "id": "MyUts2IKLAJq",
        "outputId": "e1e0ce5a-b9e4-4ba7-cb15-23fbf423a3d1"
      },
      "execution_count": null,
      "outputs": [
        {
          "output_type": "stream",
          "name": "stdout",
          "text": [
            "['abacate', 'banana', 'carambola']\n",
            "['embaúba', 'framboesa', 'goiaba']\n"
          ]
        }
      ]
    },
    {
      "cell_type": "markdown",
      "source": [
        ">Também podemos utilizar índices negativos. O índice -1 acessa o último elemento da lista, o -2 acessa o penúltimo, e assim sucessivamente. Podemos reescrever o exemplo anterior utilizando números negativos para facilitar ainda mais a legibilidade e tornar o exemplo mais genérico e independente do tamanho da lista:\n",
        "\n"
      ],
      "metadata": {
        "id": "sWAkJNjALFnZ"
      }
    },
    {
      "cell_type": "code",
      "source": [
        "ultimas3 = frutas[-3:]\n",
        "print(ultimas3)"
      ],
      "metadata": {
        "colab": {
          "base_uri": "https://localhost:8080/"
        },
        "id": "lOC5Go--LIlx",
        "outputId": "12e97fb0-4ea0-4eb6-feea-42998f8196ed"
      },
      "execution_count": null,
      "outputs": [
        {
          "output_type": "stream",
          "name": "stdout",
          "text": [
            "['embaúba', 'framboesa', 'goiaba']\n"
          ]
        }
      ]
    },
    {
      "cell_type": "markdown",
      "source": [
        "###Você deve se recordar que atribuir uma lista para outra não copia a lista. Veja o exemplo abaixo:\n",
        "\n"
      ],
      "metadata": {
        "id": "HNHOVY6_LOG7"
      }
    },
    {
      "cell_type": "code",
      "source": [
        "copia_frutas = frutas\n",
        "copia_frutas.append('heisteria')\n",
        "print(frutas) # resultado na tela: ['abacate', 'banana', 'carambola', 'damasco', 'embaúba', 'framboesa', 'goiaba', 'heisteria']\n"
      ],
      "metadata": {
        "colab": {
          "base_uri": "https://localhost:8080/"
        },
        "id": "1r0U3XbrLSDa",
        "outputId": "7d1e7351-ea09-43da-a55e-797f1ab8de9c"
      },
      "execution_count": null,
      "outputs": [
        {
          "output_type": "stream",
          "name": "stdout",
          "text": [
            "['abacate', 'banana', 'carambola', 'damasco', 'embaúba', 'framboesa', 'goiaba', 'heisteria']\n"
          ]
        }
      ]
    },
    {
      "cell_type": "markdown",
      "source": [
        "###Quando atribuímos uma lista existente para uma variável, a variável irá referenciar a mesma lista na memória. Portanto, operações realizadas na lista \"nova\" irão afetar a lista \"antiga\". Não houve a criação de uma nova lista de fato.\n",
        "\n",
        "###Uma forma fácil de copiar de verdade uma lista para outra lista é utilizar um slice indo do início até o final da lista original:\n",
        "\n"
      ],
      "metadata": {
        "id": "A8UeGvk7LUmz"
      }
    },
    {
      "cell_type": "code",
      "source": [
        "copia_frutas = frutas[:]\n",
        "print(copia_frutas)\n"
      ],
      "metadata": {
        "colab": {
          "base_uri": "https://localhost:8080/"
        },
        "id": "SBUUEVe9LZjp",
        "outputId": "01a2a65d-6a86-4795-91c6-73bf82a8c6e8"
      },
      "execution_count": null,
      "outputs": [
        {
          "output_type": "stream",
          "name": "stdout",
          "text": [
            "['abacate', 'banana', 'carambola', 'damasco', 'embaúba', 'framboesa', 'goiaba', 'heisteria']\n"
          ]
        }
      ]
    },
    {
      "cell_type": "markdown",
      "source": [
        "###copia_frutas e frutas não referenciam a mesma lista. Elas referenciam duas listas diferentes contendo os mesmos elementos, mas modificações feitas em uma delas não irão afetar a outra.\n",
        "\n",
        ">É possível passar mais um valor representando um passo ou salto. Por exemplo, podemos pegar os elementos das posições ímpares da lista começando na posição 1 e adotando salto igual a 2:\n",
        "\n"
      ],
      "metadata": {
        "id": "CuCcjRYNLdRs"
      }
    },
    {
      "cell_type": "code",
      "source": [
        "impares = frutas[1::2]\n",
        "print(impares)\n"
      ],
      "metadata": {
        "colab": {
          "base_uri": "https://localhost:8080/"
        },
        "id": "UJZtVMUrLkOc",
        "outputId": "fa6d3dca-2661-49c3-fa89-f8e4ee5cc937"
      },
      "execution_count": null,
      "outputs": [
        {
          "output_type": "stream",
          "name": "stdout",
          "text": [
            "['banana', 'damasco', 'framboesa', 'heisteria']\n"
          ]
        }
      ]
    },
    {
      "cell_type": "markdown",
      "source": [
        ">Com saltos negativos, é fácil inverter uma lista:\n",
        "\n"
      ],
      "metadata": {
        "id": "N1uiBIF9Lqpb"
      }
    },
    {
      "cell_type": "code",
      "source": [
        "frutas_inv = frutas[-1::-1]\n",
        "print(frutas_inv)"
      ],
      "metadata": {
        "colab": {
          "base_uri": "https://localhost:8080/"
        },
        "id": "5Fbj2ndlLtkx",
        "outputId": "5634c646-f6f3-4cb7-e3fa-f06a62849067"
      },
      "execution_count": null,
      "outputs": [
        {
          "output_type": "stream",
          "name": "stdout",
          "text": [
            "['heisteria', 'goiaba', 'framboesa', 'embaúba', 'damasco', 'carambola', 'banana', 'abacate']\n"
          ]
        }
      ]
    },
    {
      "cell_type": "markdown",
      "source": [
        "##**Concatenação de listas**"
      ],
      "metadata": {
        "id": "ueBs4jRdzKbN"
      }
    },
    {
      "cell_type": "markdown",
      "source": [
        "###Uma operação útil em listas é a concatenação. Quando \"somamos\" duas listas, utilizando o operador +, teremos uma nova lista com os elementos das duas listas originais em ordem de aparição:\n",
        "\n"
      ],
      "metadata": {
        "id": "0uLT6F1UzPHW"
      }
    },
    {
      "cell_type": "code",
      "source": [
        "ds = ['Python', 'SQL', 'R']\n",
        "web = ['HTML', 'CSS', 'JavaScript']\n",
        "\n",
        "linguagens = ds + web\n",
        "print(linguagens) \n",
        "#resultado: ['Python', 'SQL', 'R', 'HTML', 'CSS', 'JavaScript']"
      ],
      "metadata": {
        "colab": {
          "base_uri": "https://localhost:8080/"
        },
        "id": "FodQsDWYzTHW",
        "outputId": "ec55424d-0c94-413e-e9c5-0e50f1b470ae"
      },
      "execution_count": null,
      "outputs": [
        {
          "output_type": "stream",
          "name": "stdout",
          "text": [
            "['Python', 'SQL', 'R', 'HTML', 'CSS', 'JavaScript']\n"
          ]
        }
      ]
    },
    {
      "cell_type": "code",
      "source": [
        "g = [12,2] + [5,6, (2,3,4,)]\n",
        "g"
      ],
      "metadata": {
        "colab": {
          "base_uri": "https://localhost:8080/"
        },
        "id": "vFmzF86qHk8x",
        "outputId": "3e209c70-da02-4473-ec57-3269d7a64e1c"
      },
      "execution_count": null,
      "outputs": [
        {
          "output_type": "execute_result",
          "data": {
            "text/plain": [
              "[12, 2, 5, 6, (2, 3, 4)]"
            ]
          },
          "metadata": {},
          "execution_count": 1
        }
      ]
    },
    {
      "cell_type": "code",
      "source": [
        "type(g[-1]) #definindo o tipo(type). Logo percebemos que o tipo definido é tupla."
      ],
      "metadata": {
        "colab": {
          "base_uri": "https://localhost:8080/"
        },
        "id": "Y-NRCpzEH7ki",
        "outputId": "723c29e9-345b-4cc4-fb0d-510a3e49e06b"
      },
      "execution_count": null,
      "outputs": [
        {
          "output_type": "execute_result",
          "data": {
            "text/plain": [
              "tuple"
            ]
          },
          "metadata": {},
          "execution_count": 2
        }
      ]
    },
    {
      "cell_type": "markdown",
      "source": [
        "##**Tuplas**"
      ],
      "metadata": {
        "id": "GouG-2uAzvUP"
      }
    },
    {
      "cell_type": "markdown",
      "source": [
        "###**Tupla** é um tipo de estrutura de dados utilizada em Python que funciona de modo semelhante a uma lista, entretanto, com a característica principal de ser **imutável**. Isso significa que quando uma tupla é criada não é possível adicionar, alterar ou remover seus elementos. Geralmente, ela é utilizada para adicionar tipos diferentes de informações, porém, com a quantidade de elementos definidos.\n",
        "\n"
      ],
      "metadata": {
        "id": "fNI87tJYJfo8"
      }
    },
    {
      "cell_type": "code",
      "source": [
        "#Exemplos \n",
        "\n",
        "t = (1,2.444,[5,4,6],True,('a',2,3))"
      ],
      "metadata": {
        "id": "ISgv71gSIcQp"
      },
      "execution_count": null,
      "outputs": []
    },
    {
      "cell_type": "code",
      "source": [
        "t   # quando declaramos somente \"t\", irá mostrar todos elementos contidos nele."
      ],
      "metadata": {
        "colab": {
          "base_uri": "https://localhost:8080/"
        },
        "id": "0FDkMN68Ii83",
        "outputId": "de53ee30-be82-4529-89a8-01616526d263"
      },
      "execution_count": null,
      "outputs": [
        {
          "output_type": "execute_result",
          "data": {
            "text/plain": [
              "(1, 2.444, [5, 4, 6], True, ('a', 2, 3))"
            ]
          },
          "metadata": {},
          "execution_count": 4
        }
      ]
    },
    {
      "cell_type": "code",
      "source": [
        "t[0] # quando colocamos o indice, ele mostra o primeiro elemento da lista"
      ],
      "metadata": {
        "colab": {
          "base_uri": "https://localhost:8080/"
        },
        "id": "HyjO5YYeIn5v",
        "outputId": "f5325923-ba4a-48ab-b0e4-0d17c99e9bd7"
      },
      "execution_count": null,
      "outputs": [
        {
          "output_type": "execute_result",
          "data": {
            "text/plain": [
              "1"
            ]
          },
          "metadata": {},
          "execution_count": 5
        }
      ]
    },
    {
      "cell_type": "code",
      "source": [
        "t[-1][-1] #quando colocamos dessa forma, no primeiro[-1] será exposto a ultima lista e no segundo[-1] será exposto o ultimo elemento da ultima lista."
      ],
      "metadata": {
        "colab": {
          "base_uri": "https://localhost:8080/"
        },
        "id": "wRUxMGs7JEVE",
        "outputId": "47f07651-1b18-4cd0-efc2-290abb241042"
      },
      "execution_count": null,
      "outputs": [
        {
          "output_type": "execute_result",
          "data": {
            "text/plain": [
              "3"
            ]
          },
          "metadata": {},
          "execution_count": 6
        }
      ]
    },
    {
      "cell_type": "markdown",
      "source": [
        "##**Operações básicas**"
      ],
      "metadata": {
        "id": "fs0RjvVEzzLu"
      }
    },
    {
      "cell_type": "markdown",
      "source": [
        "###Assim como as listas, tuplas também são coleções de objetos. Elas podem armazenar diversos objetos de diferentes tipos. Elas também possuem índice, que se comporta da mesma maneira que os índices de uma lista. Podemos criar tuplas utilizando parênteses ou a função tuple. Caso a tupla possua pelo menos 2 elementos, não precisamos dos parênteses, basta separar os valores por vírgula, apesar de ser recomendável utilizá-los para evitar ambiguidades:"
      ],
      "metadata": {
        "id": "Aqvhvkn5z99t"
      }
    },
    {
      "cell_type": "code",
      "source": [
        "tupla1 = tuple() # uma tupla vazia\n",
        "\n",
        "tupla2 = () # outra tupla vazia\n",
        "\n",
        "linguagens = ('Python', 'JavaScript', 'SQL') # uma tupla com 3 elementos\n",
        "\n",
        "dados_variados = 3.14, 1000, True, 'abacate' # uma tupla declarada sem parênteses\n",
        "\n",
        "tupla_de_tuplas = ( ('Curso', 'Módulo 1', 'Módulo 2'), ('Data Science', 'Lógica de Programação I', 'Lógica de Programação II'), ('Web Full Stack', 'Front End Estático', 'Front End Dinâmico'))\n",
        "\n",
        "print(linguagens[0]) # imprime \"Python\"\n",
        "print(linguagens[1]) # imprime \"JavaScript\"\n",
        "print(dados_variados[2]) # imprime True\n",
        "print(tupla_de_tuplas[2][0]) # imprime \"Web Full Stack\""
      ],
      "metadata": {
        "colab": {
          "base_uri": "https://localhost:8080/"
        },
        "id": "WT671c1h0GCH",
        "outputId": "92897132-d020-46bc-aa4d-860205b38458"
      },
      "execution_count": null,
      "outputs": [
        {
          "output_type": "stream",
          "name": "stdout",
          "text": [
            "Python\n",
            "JavaScript\n",
            "True\n",
            "Web Full Stack\n"
          ]
        }
      ]
    },
    {
      "cell_type": "markdown",
      "source": [
        ">Todas as outras operações que revisamos hoje em listas podem ser realizadas com tuplas:\n",
        "\n",
        "- iteração através de um loop do tipo for\n",
        "- slicing passando índice inicial, final e salto\n",
        "- concatenação\n"
      ],
      "metadata": {
        "id": "NRoLNY_r0Q4M"
      }
    },
    {
      "cell_type": "code",
      "source": [
        "#Exemplo de interação atraves do FOR\n",
        "\n",
        "t = (\"Davi\", 2.444, [5, 4, 6], True, ('a', 2, 3))\n",
        "for i in t:\n",
        "    print(i)"
      ],
      "metadata": {
        "colab": {
          "base_uri": "https://localhost:8080/"
        },
        "id": "ceHb35GCLeMu",
        "outputId": "9b764a8b-bf3a-4843-d54b-173f6303bc37"
      },
      "execution_count": null,
      "outputs": [
        {
          "output_type": "stream",
          "name": "stdout",
          "text": [
            "Davi\n",
            "2.444\n",
            "[5, 4, 6]\n",
            "True\n",
            "('a', 2, 3)\n"
          ]
        }
      ]
    },
    {
      "cell_type": "code",
      "source": [
        "#Exemplo de slicing passando índice inicial, final e salto\n",
        "\n",
        "t = (\"Davi\", 2.444, [5, 4, 6], True, ('a', 2, 3))\n",
        "t[:3]      # neste exemplo vai do indice \"0\" até o \"2\"- lembrando que em lista incluir o primeiro e excluir o ultimo(não conta com o indice 3)"
      ],
      "metadata": {
        "colab": {
          "base_uri": "https://localhost:8080/"
        },
        "id": "6nfH31S-L5nu",
        "outputId": "89b2853f-b829-41be-cf4b-3dd4d123541f"
      },
      "execution_count": null,
      "outputs": [
        {
          "output_type": "execute_result",
          "data": {
            "text/plain": [
              "('Davi', 2.444, [5, 4, 6])"
            ]
          },
          "metadata": {},
          "execution_count": 8
        }
      ]
    },
    {
      "cell_type": "code",
      "source": [
        "#Exemplo de concatenação\n",
        "\n",
        "t = (\"Davi\", 2.444, [5, 4, 6], True, ('a', 2, 3)) #Concatenação não é soma, é somente a junção dos elementos declarados no código.\n",
        "\n",
        "t = t + (3.4,)     \n",
        "t = t + (True, False)\n",
        "t"
      ],
      "metadata": {
        "colab": {
          "base_uri": "https://localhost:8080/"
        },
        "id": "bIs1EwY2MpF-",
        "outputId": "73e61e44-73b6-41f0-aef3-2a815f603f95"
      },
      "execution_count": null,
      "outputs": [
        {
          "output_type": "execute_result",
          "data": {
            "text/plain": [
              "('Davi', 2.444, [5, 4, 6], True, ('a', 2, 3), 3.4, True, False)"
            ]
          },
          "metadata": {},
          "execution_count": 9
        }
      ]
    },
    {
      "cell_type": "markdown",
      "source": [
        ">>É possível também fazer conversão de lista para tupla e vice-versa:"
      ],
      "metadata": {
        "id": "H7nxoCBXLtP-"
      }
    },
    {
      "cell_type": "code",
      "source": [
        "lista_frutas = ['abacate', 'banana', 'carambola', 'damasco', 'embaúba', 'framboesa', 'goiaba']\n",
        "\n",
        "tupla_frutas = tuple(lista_frutas)\n",
        "print(tupla_frutas)\n",
        "\n",
        "nova_lista_frutas = list(tupla_frutas)\n",
        "print(nova_lista_frutas)"
      ],
      "metadata": {
        "colab": {
          "base_uri": "https://localhost:8080/"
        },
        "id": "FGKeiWz20nMc",
        "outputId": "2236c8a2-3199-4a57-ac32-cef2027fee4a"
      },
      "execution_count": null,
      "outputs": [
        {
          "output_type": "stream",
          "name": "stdout",
          "text": [
            "('abacate', 'banana', 'carambola', 'damasco', 'embaúba', 'framboesa', 'goiaba')\n",
            "['abacate', 'banana', 'carambola', 'damasco', 'embaúba', 'framboesa', 'goiaba']\n"
          ]
        }
      ]
    },
    {
      "cell_type": "markdown",
      "source": [
        "##**Desempacotamento de tupla**\n",
        "\n",
        "###Uma operação bastante interessante que podemos realizar com tuplas é o desempacotamento de tuplas, que aparecerá em muitos locais com seu nome em inglês, tuple unpacking.\n",
        "\n",
        "###O desempacotamento de tupla é uma operação que **permite facilmente atribuir o conteúdo de uma tupla a variáveis individuais**, sem a necessidade de escrever múltiplas linhas de código e manipular índices. Vejamos um exemplo básico:\n",
        "\n"
      ],
      "metadata": {
        "id": "Q0TqCrLM0w-t"
      }
    },
    {
      "cell_type": "code",
      "source": [
        "#Exemplo 1\n",
        "x, y, z = ('Lista', 'Tupla', 'Dicionário')   #Atribuindo o valor, nesse exemplo x = lista, y = tupla e z= dicionário\n",
        "print(x) # Lista\n",
        "print(y) # Tupla\n",
        "print(z) # Dicionário\n"
      ],
      "metadata": {
        "colab": {
          "base_uri": "https://localhost:8080/"
        },
        "id": "LW2kj9Km05Ym",
        "outputId": "5be7377a-b4b5-44f9-d731-be749de7d9b9"
      },
      "execution_count": null,
      "outputs": [
        {
          "output_type": "stream",
          "name": "stdout",
          "text": [
            "Lista\n",
            "Tupla\n",
            "Dicionário\n"
          ]
        }
      ]
    },
    {
      "cell_type": "code",
      "source": [
        "#Exemplo 2\n",
        "t = (1,2,3)\n",
        "x, y, z = t                                  # Da mesma forma do exemplo acima, nesse caso só está atribuindo o valor as incógnitas , nesse exemplo x = 1, y = 2 e z= 3\n",
        "print(x)\n",
        "print(y)\n",
        "print(z)"
      ],
      "metadata": {
        "colab": {
          "base_uri": "https://localhost:8080/"
        },
        "id": "uWp7qp9ONJVm",
        "outputId": "b671ac1d-c50b-4b85-8ac6-4f63a8929b46"
      },
      "execution_count": null,
      "outputs": [
        {
          "output_type": "stream",
          "name": "stdout",
          "text": [
            "1\n",
            "2\n",
            "3\n"
          ]
        }
      ]
    },
    {
      "cell_type": "markdown",
      "source": [
        "###Uma limitação inicial que temos com essa técnica é que precisamos utilizar exatamente 1 variável para cada elemento da tupla, mesmo que não estejamos interessados em todos os seus elementos. Podemos contornar isso utilizando o operador *(resto). Ao utilizá-lo em uma das variáveis no desempacotamento, estamos sinalizando que ele pode receber múltiplos valores, formando uma coleção com parte dos valores:\n",
        "\n"
      ],
      "metadata": {
        "id": "MVOLDmXC08x9"
      }
    },
    {
      "cell_type": "code",
      "source": [
        "linguagens = ('Python', 'JavaScript', 'HTML', 'CSS', 'R')\n",
        "\n",
        "primeira, *resto = linguagens\n",
        "print(primeira) # Python\n",
        "print(resto) # ['JavaScript', 'HTML', 'CSS', 'R']\n",
        "\n",
        "*resto, ultima = linguagens\n",
        "print(resto) # ['Python', 'JavaScript', 'HTML', 'CSS']\n",
        "print(ultima) # R\n",
        "\n",
        "primeira, *meio, ultima = linguagens\n",
        "print(primeira) # Python\n",
        "print(meio) # ['JavaScript', 'HTML', 'CSS']\n",
        "print(ultima) # R\n"
      ],
      "metadata": {
        "colab": {
          "base_uri": "https://localhost:8080/"
        },
        "id": "A8hBCDt41BK4",
        "outputId": "2d6e3a86-5b56-47a1-c745-7b020806d89d"
      },
      "execution_count": null,
      "outputs": [
        {
          "output_type": "stream",
          "name": "stdout",
          "text": [
            "Python\n",
            "['JavaScript', 'HTML', 'CSS', 'R']\n",
            "['Python', 'JavaScript', 'HTML', 'CSS']\n",
            "R\n",
            "Python\n",
            "['JavaScript', 'HTML', 'CSS']\n",
            "R\n"
          ]
        }
      ]
    },
    {
      "cell_type": "markdown",
      "source": [
        ">O desempacotamento também pode ser utilizado com listas. Um dos principais motivos para ele frequentemente ser lembrado como uma operação de tupla foi que ele inicialmente só existia, de fato, para tuplas, e foi implementado para listas em versões mais recentes do Python. Outro motivo está relacionado à imutabilidade: como a tupla é imutável, temos mais garantias de que sabemos qual dado está em cada posição dela, tornando essa operação mais confiável em tuplas do que em listas."
      ],
      "metadata": {
        "id": "BQ8v2aab1Gb1"
      }
    },
    {
      "cell_type": "markdown",
      "source": [
        "##**Operações com tuplas \"implícitas\"**\n"
      ],
      "metadata": {
        "id": "trROVMfe1JbQ"
      }
    },
    {
      "cell_type": "markdown",
      "source": [
        "###O Python oferece alguns truques que permitem escrever códigos mais enxutos do que em outras linguagens, e parte desses truques utiliza sintaxe de tupla. Por exemplo, para criar duas variáveis e atribuir valores simultaneamente a elas, podemos utilizar vírgulas:\n",
        "\n"
      ],
      "metadata": {
        "id": "AjOu5bD11W56"
      }
    },
    {
      "cell_type": "code",
      "source": [
        "x, y = 10, 20\n",
        "\n",
        "print(x) # 10\n",
        "print(y) # 20\n"
      ],
      "metadata": {
        "colab": {
          "base_uri": "https://localhost:8080/"
        },
        "id": "gLtkVipj1Zsx",
        "outputId": "ff86c902-48b4-44cc-dad5-df7c53ae5944"
      },
      "execution_count": null,
      "outputs": [
        {
          "output_type": "stream",
          "name": "stdout",
          "text": [
            "10\n",
            "20\n"
          ]
        }
      ]
    },
    {
      "cell_type": "markdown",
      "source": [
        ">Outro truque relacionado bastante comum é inverter o valor de duas variáveis:\n",
        "\n"
      ],
      "metadata": {
        "id": "IiR2ZcbV1cJ7"
      }
    },
    {
      "cell_type": "code",
      "source": [
        "y, x = x, y\n",
        "\n",
        "print(x) # 20\n",
        "print(y) # 10\n"
      ],
      "metadata": {
        "colab": {
          "base_uri": "https://localhost:8080/"
        },
        "id": "-dmbB05J1ejC",
        "outputId": "8fe7bd2c-513f-42ec-dfeb-61becb061bd4"
      },
      "execution_count": null,
      "outputs": [
        {
          "output_type": "stream",
          "name": "stdout",
          "text": [
            "20\n",
            "10\n"
          ]
        }
      ]
    },
    {
      "cell_type": "markdown",
      "source": [
        ">Esse tipo de operação é considerado açúcar sintático, ou seja, não acrescenta funcionalidades novas, apenas cria formas mais simples e legíveis de realizar operações que já éramos capazes de realizar anteriormente.\n",
        "\n",
        ">Internamente, o Python está usando lógica de criar e desempacotar tuplas para realizar esse tipo de operação."
      ],
      "metadata": {
        "id": "WvyCwOBR1hrZ"
      }
    },
    {
      "cell_type": "markdown",
      "source": [
        "##**Facilidades para iteração**\n"
      ],
      "metadata": {
        "id": "EaF9-Hud1wAF"
      }
    },
    {
      "cell_type": "markdown",
      "source": [
        "###Sempre que possível, é preferível iterar uma coleção - seja ela uma lista ou uma tupla - de maneira direta utilizando for sem índices. Há alguns problemas onde pode ser difícil escapar do índice, pois nossa lógica irá depender de posição de alguma maneira.\n",
        "\n",
        "###Veremos duas estruturas que irão nos auxiliar a fazer iteração por índice sem precisar utilizar uma estrutura pouco legível como:\n",
        "\n"
      ],
      "metadata": {
        "id": "H9XUoHr710Mh"
      }
    },
    {
      "cell_type": "code",
      "source": [
        "t2 = (1,2,3,4,5,6,7,8,9)\n",
        "\n",
        "for i in range(len(t2)):\n",
        "    print(t2[i]) "
      ],
      "metadata": {
        "id": "HKmWGgmA139m",
        "colab": {
          "base_uri": "https://localhost:8080/"
        },
        "outputId": "e1bbe455-dae8-46fd-d38d-d80d9d4cbe7c"
      },
      "execution_count": null,
      "outputs": [
        {
          "output_type": "stream",
          "name": "stdout",
          "text": [
            "1\n",
            "2\n",
            "3\n",
            "4\n",
            "5\n",
            "6\n",
            "7\n",
            "8\n",
            "9\n"
          ]
        }
      ]
    },
    {
      "cell_type": "markdown",
      "source": [
        "##**Enumerate**\n",
        "\n"
      ],
      "metadata": {
        "id": "C7aSJ3oY2AUP"
      }
    },
    {
      "cell_type": "markdown",
      "source": [
        "###Considere um problema qualquer onde o índice importa. Por exemplo, suponha que você possua uma lista de strings e gostaria de exibi-la intercalando uma em letra maiúscula e outra em letra minúscula (assim como frequentemente representamos tabelas intercalando as cores de suas linhas em editores de planilha para melhorar a legibilidade).\n",
        "\n",
        "###A lógica desse problema poderia ser resolvida usando índice:"
      ],
      "metadata": {
        "id": "gx33ybDC2Hiz"
      }
    },
    {
      "cell_type": "code",
      "source": [
        "lista_frutas = ['abacate', 'banana', 'carambola', 'damasco', 'embaúba', 'framboesa', 'goiaba']\n",
        "\n",
        "for indice in range(len(lista_frutas)):\n",
        "    if indice % 2 == 0:\n",
        "        print(lista_frutas[indice].upper())\n",
        "    else:\n",
        "        print(lista_frutas[indice].lower())"
      ],
      "metadata": {
        "colab": {
          "base_uri": "https://localhost:8080/"
        },
        "id": "TeJNS36q2Nhv",
        "outputId": "e8008f98-ef7d-4dc1-8a35-de2c8e651b1c"
      },
      "execution_count": null,
      "outputs": [
        {
          "output_type": "stream",
          "name": "stdout",
          "text": [
            "ABACATE\n",
            "banana\n",
            "CARAMBOLA\n",
            "damasco\n",
            "EMBAÚBA\n",
            "framboesa\n",
            "GOIABA\n"
          ]
        }
      ]
    },
    {
      "cell_type": "markdown",
      "source": [
        "###Existe uma ferramenta em Python que pode nos ajudar a escrever de maneira mais pythonica, sem precisar acessar lista por índice: o enumerate. Primeiro, vamos entender o que ele faz e, em seguida, veremos como deixar o código mais limpo:"
      ],
      "metadata": {
        "id": "J62T9B6h2VZc"
      }
    },
    {
      "cell_type": "code",
      "source": [
        "for x in enumerate(lista_frutas):\n",
        "    print(x)\n",
        "\n",
        "#Saída na tela:\n",
        "\n",
        "(0, 'abacate')\n",
        "(1, 'banana')\n",
        "(2, 'carambola')\n",
        "(3, 'damasco')\n",
        "(4, 'embaúba')\n",
        "(5, 'framboesa')\n",
        "(6, 'goiaba')"
      ],
      "metadata": {
        "colab": {
          "base_uri": "https://localhost:8080/"
        },
        "id": "UvD1LUmF2XUk",
        "outputId": "a6b12c5a-3c08-48ba-f7e9-e80ef865d643"
      },
      "execution_count": null,
      "outputs": [
        {
          "output_type": "stream",
          "name": "stdout",
          "text": [
            "(0, 'abacate')\n",
            "(1, 'banana')\n",
            "(2, 'carambola')\n",
            "(3, 'damasco')\n",
            "(4, 'embaúba')\n",
            "(5, 'framboesa')\n",
            "(6, 'goiaba')\n"
          ]
        },
        {
          "output_type": "execute_result",
          "data": {
            "text/plain": [
              "(6, 'goiaba')"
            ]
          },
          "metadata": {},
          "execution_count": 11
        }
      ]
    },
    {
      "cell_type": "code",
      "source": [
        "l = [\"antonia\",\"Rebecca\",\"George\"]\n",
        "for index, dado in enumerate(l): # index, dado = i\n",
        "    print(index, dado)"
      ],
      "metadata": {
        "colab": {
          "base_uri": "https://localhost:8080/"
        },
        "id": "Pcity1PiOrDj",
        "outputId": "39927c47-cf76-4a08-a43f-31e0e999e06d"
      },
      "execution_count": null,
      "outputs": [
        {
          "output_type": "stream",
          "name": "stdout",
          "text": [
            "0 antonia\n",
            "1 Rebecca\n",
            "2 George\n"
          ]
        }
      ]
    },
    {
      "cell_type": "markdown",
      "source": [
        "###O enumerate montou uma estrutura onde cada elemento é uma tupla, sendo o primeiro elemento da tupla um índice da lista, e o segundo o valor associado àquele índice. Aplicando desempacotamento de tupla no for, podemos ter, simultaneamente, índice e valor em variáveis separadas, na prática percorrendo a lista tanto por índice quanto por valor. Refazendo o exemplo das maiúsculas/minúsculas:\n",
        "\n"
      ],
      "metadata": {
        "id": "wRGJdjIJ2fJ-"
      }
    },
    {
      "cell_type": "code",
      "source": [
        "for indice, valor in enumerate(lista_frutas):\n",
        "    if indice % 2 == 0:\n",
        "        print(valor.upper())\n",
        "    else:\n",
        "        print(valor.lower())"
      ],
      "metadata": {
        "colab": {
          "base_uri": "https://localhost:8080/"
        },
        "id": "bHiJn9ef2h4d",
        "outputId": "333cf343-fafd-4993-b458-d184b9473534"
      },
      "execution_count": null,
      "outputs": [
        {
          "output_type": "stream",
          "name": "stdout",
          "text": [
            "ABACATE\n",
            "banana\n",
            "CARAMBOLA\n",
            "damasco\n",
            "EMBAÚBA\n",
            "framboesa\n",
            "GOIABA\n"
          ]
        }
      ]
    },
    {
      "cell_type": "markdown",
      "source": [
        "##**Zip**\n"
      ],
      "metadata": {
        "id": "bTUH3d7b3SLF"
      }
    },
    {
      "cell_type": "markdown",
      "source": [
        "###Vamos pensar em um problema onde precisamos percorrer duas listas simultaneamente. Por exemplo, considere que temos uma lista com os nomes de todos os alunos de uma turma, e outra com as notas, na mesma ordem. Como faríamos para acessar, simultaneamente, o nome de um aluno e a sua nota?\n",
        "\n",
        "###Esse é um problema onde, a princípio, utilizaríamos índice. Se usarmos o mesmo índice nas duas listas, estamos na prática percorrendo ambas as listas simultaneamente:"
      ],
      "metadata": {
        "id": "x2hhrx4h3Vgm"
      }
    },
    {
      "cell_type": "code",
      "source": [
        "alunos = ['Paul', 'John', 'George', 'Ringo']\n",
        "notas = [10, 9.5, 7, 6]\n",
        "\n",
        "for indice in range(len(alunos)):\n",
        "    print(f'Aluno {alunos[indice]}: {notas[indice]}')\n",
        "\n",
        "#Saída na tela:Aluno Paul: 10 Aluno John: 9.5 Aluno George: 7 Aluno Ringo: 6\n",
        "\n"
      ],
      "metadata": {
        "colab": {
          "base_uri": "https://localhost:8080/"
        },
        "id": "y0iSkXMK3ZbX",
        "outputId": "fab338c1-1969-4fa6-813a-d5cacc502f40"
      },
      "execution_count": null,
      "outputs": [
        {
          "output_type": "stream",
          "name": "stdout",
          "text": [
            "Aluno Paul: 10\n",
            "Aluno John: 9.5\n",
            "Aluno George: 7\n",
            "Aluno Ringo: 6\n"
          ]
        }
      ]
    },
    {
      "cell_type": "markdown",
      "source": [
        ">Vamos ver agora o zip em ação para compreender como ele funciona:\n",
        "\n"
      ],
      "metadata": {
        "id": "YOJijIYH3sTn"
      }
    },
    {
      "cell_type": "code",
      "source": [
        "for x in zip(alunos, notas):\n",
        "    print(x)\n",
        "\n",
        "#Saída na tela:('Paul', 10)('John', 9.5)('George', 7)('Ringo', 6)"
      ],
      "metadata": {
        "colab": {
          "base_uri": "https://localhost:8080/"
        },
        "id": "9_rqYqo73vAZ",
        "outputId": "20a76446-dc31-46fa-ad04-506f7bc39a6f"
      },
      "execution_count": null,
      "outputs": [
        {
          "output_type": "stream",
          "name": "stdout",
          "text": [
            "('Paul', 10)\n",
            "('John', 9.5)\n",
            "('George', 7)\n",
            "('Ringo', 6)\n"
          ]
        }
      ]
    },
    {
      "cell_type": "markdown",
      "source": [
        ">Assim como no enumerate, o zip montou tuplas. Cada tupla representa 1 posição das listas originais, e cada posição dentro da tupla representa o dado de uma das listas. Ou seja, cada elemento do zip contém 1 elemento de cada lista original, na ordem que eles apareceram nas listas originais. Logo, ele permite percorrer 2 listas simultaneamente.\n",
        "\n",
        ">Novamente podemos aplicar desempacotamento de tuplas em nosso loop e acessar os dados de cada lista individualmente de maneira legível:\n",
        "\n"
      ],
      "metadata": {
        "id": "dpcfbCbnP8YU"
      }
    },
    {
      "cell_type": "code",
      "source": [
        "alunos = ['Paul', 'John', 'George', 'Ringo']\n",
        "notas = [10, 9.5, 7, 6]\n",
        "\n",
        "for aluno, nota in zip(alunos, notas):\n",
        "    print(f'Aluno {aluno}: {nota}')\n",
        "\n",
        "#Saída na tela:Aluno Paul: 10 Aluno John: 9.5 Aluno George: 7 Aluno Ringo: 6"
      ],
      "metadata": {
        "colab": {
          "base_uri": "https://localhost:8080/"
        },
        "id": "6Vm1MkIjQAcK",
        "outputId": "fce77a13-496a-40e1-8dae-b5a8140c6620"
      },
      "execution_count": null,
      "outputs": [
        {
          "output_type": "stream",
          "name": "stdout",
          "text": [
            "Aluno Paul: 10\n",
            "Aluno John: 9.5\n",
            "Aluno George: 7\n",
            "Aluno Ringo: 6\n"
          ]
        }
      ]
    },
    {
      "cell_type": "code",
      "source": [
        "# outro exemplo\n",
        "\n",
        "idade = (12,45,60)\n",
        "nome = [\"antonia\",\"Rebecca\",\"George\"]\n",
        "num = (1,2,3)\n",
        "\n",
        "for n, i, x in zip(nome, idade, num): # n, i, x = (nome, idade, num)\n",
        "    print(n, i, x)"
      ],
      "metadata": {
        "colab": {
          "base_uri": "https://localhost:8080/"
        },
        "id": "J_GlHx_COzs3",
        "outputId": "046e5aa5-e3c2-4b50-ec0f-145eb1d1e53f"
      },
      "execution_count": null,
      "outputs": [
        {
          "output_type": "stream",
          "name": "stdout",
          "text": [
            "antonia 12 1\n",
            "Rebecca 45 2\n",
            "George 60 3\n"
          ]
        }
      ]
    },
    {
      "cell_type": "markdown",
      "source": [
        "##**Praticando**"
      ],
      "metadata": {
        "id": "8ppFB9JJeqqW"
      }
    },
    {
      "cell_type": "markdown",
      "source": [
        "### **Usando tuplas, crie um programa que peça ao usuário nome, idade, altura, peso, estado civil (casado/solteiro), e imprima semelhante a:**\n",
        "\n",
        "```\n",
        "nome: davi\n",
        "idade: 30\n",
        "altura: 1.65\n",
        "peso: 80\n",
        "Estado civil:\n",
        "1. Solteiro\n",
        "2. Casado\n",
        "\n",
        "\n",
        "nome: davi\n",
        "idade: 30\n",
        "altura: 1.65\n",
        "peso: 80\n",
        "Estado civil: Solteiro\n",
        "```"
      ],
      "metadata": {
        "id": "wqSjx-KdcOGY"
      }
    },
    {
      "cell_type": "code",
      "source": [
        "#Exemplo 1\n",
        "\n",
        "nome = input('Digite nome: ')\n",
        "idade = input('Digite idade: ')\n",
        "altura = input('Digite altura: ')\n",
        "peso = input('Digite peso: ')\n",
        "estado_civil = input('Digite estado civil (solteiro ou casado - escreva por extenso):')\n",
        "nomes_dados = ('nome:','idade:','altura:','peso:','estado_civil:')\n",
        "dados = (nome, idade, altura, peso, estado_civil)\n",
        "\n",
        "for n, d in zip(nomes_dados,dados):\n",
        " print(n,d)\n"
      ],
      "metadata": {
        "colab": {
          "base_uri": "https://localhost:8080/"
        },
        "id": "tkX_cW1R6CZm",
        "outputId": "b98bfc24-fdb3-4f4b-a834-26e1b865cfe8"
      },
      "execution_count": 8,
      "outputs": [
        {
          "output_type": "stream",
          "name": "stdout",
          "text": [
            "Digite nome: Elizangela\n",
            "Digite idade: 31\n",
            "Digite altura: 1.69\n",
            "Digite peso: 89\n",
            "Digite estado civil (solteiro ou casado - escreva por extenso):solteiro\n",
            "nome: Elizangela\n",
            "idade: 31\n",
            "altura: 1.69\n",
            "peso: 89\n",
            "estado_civil: solteiro\n"
          ]
        }
      ]
    },
    {
      "cell_type": "code",
      "source": [
        "#Exemplo 2\n",
        "\n",
        "nome = input(\"Qual seu nome: \")\n",
        "idade = int(input(\"Qual sua idade: \"))\n",
        "altura = float(input(\"Qual sua altura: \"))\n",
        "peso = float(input(\"Qual seu peso: \"))\n",
        "estado_civil= int(input(\"Estado civil:\\n1.Casado\\n2.Solteiro\\nEscolha uma opção: \"))\n",
        "\n",
        "if estado_civil == 1:\n",
        "   estado_civil=\"Casado\"\n",
        "elif estado_civil==2:\n",
        "   estado_civil=\"solteiro\"\n",
        "\n",
        "t1 = (nome, idade, altura, peso, estado_civil)\n",
        "\n",
        "print(f\"\\nNome  : \", t1[0],f\"\\nIdade : \", t1[1], \" anos\",f\"\\nAltura: \", t1[2], \"m\",f\"\\nPeso  : \", t1[3], \"kg\",f\"\\nEstado Civil: \", t1[4])\n",
        "\n"
      ],
      "metadata": {
        "colab": {
          "base_uri": "https://localhost:8080/"
        },
        "id": "Q8xf8905IqLK",
        "outputId": "a1425d1e-8e01-40d9-81dc-8a15639a0aeb"
      },
      "execution_count": 7,
      "outputs": [
        {
          "output_type": "stream",
          "name": "stdout",
          "text": [
            "Qual seu nome: Elizangela\n",
            "Qual sua idade: 31\n",
            "Qual sua altura: 1.69\n",
            "Qual seu peso: 89\n",
            "Estado civil:\n",
            "1.Casado\n",
            "2.Solteiro\n",
            "Escolha uma opção: 2\n",
            "\n",
            "Nome  :  Elizangela \n",
            "Idade :  31  anos \n",
            "Altura:  1.69 m \n",
            "Peso  :  89.0 kg \n",
            "Estado Civil:  solteiro\n"
          ]
        }
      ]
    }
  ]
}