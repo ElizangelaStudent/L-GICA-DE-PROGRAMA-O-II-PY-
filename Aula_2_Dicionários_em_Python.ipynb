{
  "nbformat": 4,
  "nbformat_minor": 0,
  "metadata": {
    "colab": {
      "provenance": [],
      "collapsed_sections": [],
      "authorship_tag": "ABX9TyMp6+0NwQrkyCOE1UqX6ChC",
      "include_colab_link": true
    },
    "kernelspec": {
      "name": "python3",
      "display_name": "Python 3"
    },
    "language_info": {
      "name": "python"
    }
  },
  "cells": [
    {
      "cell_type": "markdown",
      "metadata": {
        "id": "view-in-github",
        "colab_type": "text"
      },
      "source": [
        "<a href=\"https://colab.research.google.com/github/ElizangelaStudent/L-GICA-DE-PROGRAMA-O-II-PY-/blob/main/Aula_2_Dicion%C3%A1rios_em_Python.ipynb\" target=\"_parent\"><img src=\"https://colab.research.google.com/assets/colab-badge.svg\" alt=\"Open In Colab\"/></a>"
      ]
    },
    {
      "cell_type": "markdown",
      "source": [
        "##**Dicionários em Python**\n",
        "\n",
        "###Quando utilizamos um dicionário (o de papel, com definições), não temos o hábito de procurar pela palavra que está em uma determinada posição. Ao invés disso, nós buscamos pela palavra em si, e ao encontrá-la ela contém uma definição.\n",
        "\n",
        "###A estrutura dicionário em Python é uma coleção de dados. Porém, ela não é indexada. Ao adicionarmos elementos em um dicionário, sempre o fazemos aos pares: todo elemento terá uma **chave** e um **valor**-{chave1 : valor1, chave2 : valor2, …​}..\n",
        "\n",
        "###A chave será uma string que utilizaremos como se fosse o índice. É como se fosse a palavra que buscamos em um dicionário de papel.\n",
        "\n",
        "###O valor pode ser qualquer dado: um int, um float, uma str, um bool, uma lista, uma tupla, outro dicionário. Ele é como se fosse a definição que encontramos vinculada à palavra que buscamos no dicionário de papel."
      ],
      "metadata": {
        "id": "gy3I9z8aam0L"
      }
    },
    {
      "cell_type": "markdown",
      "source": [
        "```python\n",
        "d = {\"chave\":\"valor\"}\n",
        "```\n",
        "\n",
        "```python\n",
        "d = {\"key\":\"value\"}\n",
        "```"
      ],
      "metadata": {
        "id": "PFW_o-6aUHXQ"
      }
    },
    {
      "cell_type": "code",
      "source": [
        "user = {\"nome\":\"Davi\"}\n",
        "user                           #Se chamar pelo user,ele irá mostrar os elementos que estão dentro das chaves"
      ],
      "metadata": {
        "colab": {
          "base_uri": "https://localhost:8080/"
        },
        "id": "tjCMxbBFTcnA",
        "outputId": "54a2a1d0-db31-4b1c-cd08-f967d02223e1"
      },
      "execution_count": 2,
      "outputs": [
        {
          "output_type": "execute_result",
          "data": {
            "text/plain": [
              "{'nome': 'Davi'}"
            ]
          },
          "metadata": {},
          "execution_count": 2
        }
      ]
    },
    {
      "cell_type": "code",
      "source": [
        " type(user)        #se solicitar o tipo, ele irá mostrar type dict( tipo dicionário)"
      ],
      "metadata": {
        "colab": {
          "base_uri": "https://localhost:8080/"
        },
        "id": "IqMohp3xU5QN",
        "outputId": "0cd69ad0-6170-4a04-de7c-506810162add"
      },
      "execution_count": 3,
      "outputs": [
        {
          "output_type": "execute_result",
          "data": {
            "text/plain": [
              "dict"
            ]
          },
          "metadata": {},
          "execution_count": 3
        }
      ]
    },
    {
      "cell_type": "markdown",
      "source": [
        "##**Criando um dicionário**\n",
        "\n",
        "###Separamos chave e valor utilizando dois pontos (:), e separamos um par de outro utilizando vírgula. Utilizamos o símbolo chave ({ e }) para representar um dicionário.\n"
      ],
      "metadata": {
        "id": "IvRFPR9dcTTe"
      }
    },
    {
      "cell_type": "code",
      "source": [
        "user = {\n",
        "    \"nome\": \"Davi\", \n",
        "    \"idade\": 30, \n",
        "    \"status\": True,\n",
        "    \"peso\": 80.5,\n",
        "    \"notas\":[7, 8.9 ,10],\n",
        "    \"enderecao\":{\n",
        "        \"rua\":30,\n",
        "        \"bairro\": \"Vila Embratel\"\n",
        "    }\n",
        "} \n",
        "\n",
        "user #chamando o elemento"
      ],
      "metadata": {
        "colab": {
          "base_uri": "https://localhost:8080/"
        },
        "id": "yZ9k1S6VcY-V",
        "outputId": "90f0ed48-dba0-4c39-dab4-16b58c67179a"
      },
      "execution_count": 7,
      "outputs": [
        {
          "output_type": "execute_result",
          "data": {
            "text/plain": [
              "{'nome': 'Davi',\n",
              " 'idade': 30,\n",
              " 'status': True,\n",
              " 'peso': 80.5,\n",
              " 'notas': [7, 8.9, 10],\n",
              " 'enderecao': {'rua': 30, 'bairro': 'Vila Embratel'}}"
            ]
          },
          "metadata": {},
          "execution_count": 7
        }
      ]
    },
    {
      "cell_type": "markdown",
      "source": [
        ">Outra possibilidade é utilizar uma coleção (como uma lista ou uma tupla) contendo, internamente, outras coleções com exatamente 2 elementos. O primeiro elemento será chave, o segundo será valor. O exemplo abaixo cria o mesmo dicionário do exemplo anterior:\n",
        "\n"
      ],
      "metadata": {
        "id": "NSBwsfHmc63W"
      }
    },
    {
      "cell_type": "code",
      "source": [
        "lista = [['Ana', 7], ['Brenda', 10], ['Carlos', 8]]\n",
        "dicionario = dict(lista)\n",
        "print(dicionario)\n"
      ],
      "metadata": {
        "colab": {
          "base_uri": "https://localhost:8080/"
        },
        "id": "WrgjrpWkc-Ll",
        "outputId": "a5dae500-dea8-49dd-88f6-9ea26c66d10b"
      },
      "execution_count": null,
      "outputs": [
        {
          "output_type": "stream",
          "name": "stdout",
          "text": [
            "{'Ana': 7, 'Brenda': 10, 'Carlos': 8}\n"
          ]
        }
      ]
    },
    {
      "cell_type": "code",
      "source": [
        "#outro exemplo\n",
        "\n",
        "user = dict([\n",
        "    (\"nome\", \"Davi\"),\n",
        "    (\"idade\", 30),\n",
        "    (\"status\",True), \n",
        "    (\"peso\",80.5)\n",
        "])\n",
        "\n",
        "\n",
        "user"
      ],
      "metadata": {
        "colab": {
          "base_uri": "https://localhost:8080/"
        },
        "id": "T-lYpkQfXkc2",
        "outputId": "14230a54-2154-4331-d177-d95e071d82fb"
      },
      "execution_count": 8,
      "outputs": [
        {
          "output_type": "execute_result",
          "data": {
            "text/plain": [
              "{'nome': 'Davi', 'idade': 30, 'status': True, 'peso': 80.5}"
            ]
          },
          "metadata": {},
          "execution_count": 8
        }
      ]
    },
    {
      "cell_type": "markdown",
      "source": [
        ">Caso você tenha suas chaves e valores em coleções separadas, uma maneira fácil de explorar a possibilidade anterior é utilizar um zip:\n",
        "\n"
      ],
      "metadata": {
        "id": "UNvCPjaHdCz-"
      }
    },
    {
      "cell_type": "code",
      "source": [
        "nomes = ['Ana', 'Brenda', 'Carlos']\n",
        "notas = [7, 10, 8]\n",
        "dicionario_notas = dict(zip(nomes, notas))\n",
        "print(dicionario_notas)"
      ],
      "metadata": {
        "colab": {
          "base_uri": "https://localhost:8080/"
        },
        "id": "9T0hbqzAdGGu",
        "outputId": "6c467cc6-f4dd-41b8-eabf-07a2a636f1bf"
      },
      "execution_count": null,
      "outputs": [
        {
          "output_type": "stream",
          "name": "stdout",
          "text": [
            "{'Ana': 7, 'Brenda': 10, 'Carlos': 8}\n"
          ]
        }
      ]
    },
    {
      "cell_type": "markdown",
      "source": [
        "##**Acessando itens**"
      ],
      "metadata": {
        "id": "jGQPzO9-XtMG"
      }
    },
    {
      "cell_type": "markdown",
      "source": [
        "###O acesso aos itens ou elementos de um dicionário Python pode ser realizado de modo similar ao método de acesso das listas.\n",
        "\n"
      ],
      "metadata": {
        "id": "rHlPa1KMcoaT"
      }
    },
    {
      "cell_type": "code",
      "source": [
        "user = {\n",
        "    \"nome\": \"Davi\", \n",
        "    \"idade\": 30, \n",
        "    \"status\": True,\n",
        "    \"peso\": 80.5,\n",
        "    \"notas\":[7, 8.9 ,10],\n",
        "    \"enderecao\":{\n",
        "        \"rua\":30,\n",
        "        \"bairro\": \"Vila Embratel\"\n",
        "    }\n",
        "}\n",
        "\n",
        "user['enderecao'][\"bairro\"]"
      ],
      "metadata": {
        "colab": {
          "base_uri": "https://localhost:8080/",
          "height": 36
        },
        "id": "FdjyRDkkdFyC",
        "outputId": "98d71486-bc4b-42b5-bfd3-a1271bf6b521"
      },
      "execution_count": 16,
      "outputs": [
        {
          "output_type": "execute_result",
          "data": {
            "text/plain": [
              "'Vila Embratel'"
            ],
            "application/vnd.google.colaboratory.intrinsic+json": {
              "type": "string"
            }
          },
          "metadata": {},
          "execution_count": 16
        }
      ]
    },
    {
      "cell_type": "markdown",
      "source": [
        "###No entanto, é necessário passar a chave para a qual se deseja acessar o valor.  Ou ainda, através da função get(), que pode ter o retorno da função atribuída a uma variável ou ser chamada diretamente na função print."
      ],
      "metadata": {
        "id": "-Sv7cRIUdG9b"
      }
    },
    {
      "cell_type": "markdown",
      "source": [
        "- Função **Get**\n",
        "\n",
        "   >O função get permite acessar uma chave sem a ocorrência de erro. Caso uma chave não exista, ele irá retornar None, a constante nula denotando a ausência de valor."
      ],
      "metadata": {
        "id": "acdOXBEpaAgn"
      }
    },
    {
      "cell_type": "code",
      "source": [
        "user = {\n",
        "    \"nome\": \"Davi\", \n",
        "    \"idade\": 30, \n",
        "    \"status\": True,\n",
        "    \"peso\": 80.5,\n",
        "    \"notas\":[7, 8.9 ,10],\n",
        "    \"enderecao\":{\n",
        "        \"rua\":30,\n",
        "        \"bairro\": \"Vila Embratel\"\n",
        "    }\n",
        "} \n",
        "\n",
        "\n",
        "user['enderecao'].get(\"bairro\", \"Não tem, bairro\")"
      ],
      "metadata": {
        "colab": {
          "base_uri": "https://localhost:8080/",
          "height": 36
        },
        "id": "oqMeD9l-aiED",
        "outputId": "1a30e2b2-5f13-4087-ee3e-e6bd90a27ae9"
      },
      "execution_count": 9,
      "outputs": [
        {
          "output_type": "execute_result",
          "data": {
            "text/plain": [
              "'Vila Embratel'"
            ],
            "application/vnd.google.colaboratory.intrinsic+json": {
              "type": "string"
            }
          },
          "metadata": {},
          "execution_count": 9
        }
      ]
    },
    {
      "cell_type": "code",
      "source": [
        "user.get(\"nome\")"
      ],
      "metadata": {
        "colab": {
          "base_uri": "https://localhost:8080/",
          "height": 36
        },
        "id": "rMFgYM5WayTN",
        "outputId": "3b24c459-7a83-43e0-928a-c62ebf0cb272"
      },
      "execution_count": 10,
      "outputs": [
        {
          "output_type": "execute_result",
          "data": {
            "text/plain": [
              "'Davi'"
            ],
            "application/vnd.google.colaboratory.intrinsic+json": {
              "type": "string"
            }
          },
          "metadata": {},
          "execution_count": 10
        }
      ]
    },
    {
      "cell_type": "code",
      "source": [
        "user.get(\"status\", \"Não tem\")"
      ],
      "metadata": {
        "colab": {
          "base_uri": "https://localhost:8080/"
        },
        "id": "v-VGFMwwa0Qu",
        "outputId": "ae8d6b3c-ec79-46f6-ecd4-c7dcb8a4a5a8"
      },
      "execution_count": 11,
      "outputs": [
        {
          "output_type": "execute_result",
          "data": {
            "text/plain": [
              "True"
            ]
          },
          "metadata": {},
          "execution_count": 11
        }
      ]
    },
    {
      "cell_type": "markdown",
      "source": [
        ">O get aceita como parâmetro opcional um valor padrão que será retornado ao invés de None caso a chave não exista:"
      ],
      "metadata": {
        "id": "o9yIdHR-bQ5M"
      }
    },
    {
      "cell_type": "code",
      "source": [
        "user = {\n",
        "    \"nome\": \"Davi\", \n",
        "    \"idade\": 30, \n",
        "    \"status\": True,\n",
        "    \"peso\": 80.5,\n",
        "    \"notas\":[7, 8.9 ,10],\n",
        "    \"enderecao\":{\n",
        "        \"rua\":30,\n",
        "        \"bairro\": \"Vila Embratel\"\n",
        "    }\n",
        "} \n",
        "\n",
        "\n",
        "user.get(\"bairrooooo\", \"Não tem\")  #escrita bairooooo não existe dentro do código."
      ],
      "metadata": {
        "colab": {
          "base_uri": "https://localhost:8080/",
          "height": 36
        },
        "id": "kS_89ytlbTOs",
        "outputId": "919e37ad-2227-4f5a-c905-16ebec9a9704"
      },
      "execution_count": 15,
      "outputs": [
        {
          "output_type": "execute_result",
          "data": {
            "text/plain": [
              "'Não tem'"
            ],
            "application/vnd.google.colaboratory.intrinsic+json": {
              "type": "string"
            }
          },
          "metadata": {},
          "execution_count": 15
        }
      ]
    },
    {
      "cell_type": "markdown",
      "source": [
        "##**Obtendo chaves e valores**"
      ],
      "metadata": {
        "id": "1bNLQN4yeB-2"
      }
    },
    {
      "cell_type": "markdown",
      "source": [
        "###O Python possui funções para obter, separadamente, todas as chaves ou todos os valores de um dicionário. Elas são, respectivamente, **keys e values** -{keys:values}. Podemos transformar o retorno dessa função em uma lista ou tupla."
      ],
      "metadata": {
        "id": "PfmvXCT0eWNJ"
      }
    },
    {
      "cell_type": "code",
      "source": [
        "user = {\n",
        "    \"nome\": \"Davi\", \n",
        "    \"idade\": 30, \n",
        "    \"status\": True,\n",
        "    \"peso\": 80.5,\n",
        "    \"notas\":[7, 8.9 ,10],\n",
        "    \"enderecao\":{\n",
        "        \"rua\":30,\n",
        "        \"bairro\": \"Vila Embratel\"\n",
        "    }\n",
        "} \n",
        "\n",
        "\n",
        "user.keys()   #Keys irá mostrar todas as chaves desse código."
      ],
      "metadata": {
        "colab": {
          "base_uri": "https://localhost:8080/"
        },
        "id": "XblwXpSDeZJz",
        "outputId": "c17019d6-5e34-444b-da15-80b451ee6f78"
      },
      "execution_count": 17,
      "outputs": [
        {
          "output_type": "execute_result",
          "data": {
            "text/plain": [
              "dict_keys(['nome', 'idade', 'status', 'peso', 'notas', 'enderecao'])"
            ]
          },
          "metadata": {},
          "execution_count": 17
        }
      ]
    },
    {
      "cell_type": "code",
      "source": [
        "user = {\n",
        "    \"nome\": \"Davi\", \n",
        "    \"idade\": 30, \n",
        "    \"status\": True,\n",
        "    \"peso\": 80.5,\n",
        "    \"notas\":[7, 8.9 ,10],\n",
        "    \"enderecao\":{\n",
        "        \"rua\":30,\n",
        "        \"bairro\": \"Vila Embratel\"\n",
        "    }\n",
        "} \n",
        "\n",
        "user.values() #Values irá mostrar todas os valores desse código."
      ],
      "metadata": {
        "colab": {
          "base_uri": "https://localhost:8080/"
        },
        "id": "LcsOaOasezGF",
        "outputId": "1e9f91f1-917f-4e6a-cf0f-9f443d50aaa7"
      },
      "execution_count": 18,
      "outputs": [
        {
          "output_type": "execute_result",
          "data": {
            "text/plain": [
              "dict_values(['Davi', 30, True, 80.5, [7, 8.9, 10], {'rua': 30, 'bairro': 'Vila Embratel'}])"
            ]
          },
          "metadata": {},
          "execution_count": 18
        }
      ]
    },
    {
      "cell_type": "markdown",
      "source": [
        ">Utilizando o keys e values, posso solicitar individualmente cada chave."
      ],
      "metadata": {
        "id": "oUx3xP1bfnGl"
      }
    },
    {
      "cell_type": "code",
      "source": [
        "#Exemplo com values\n",
        "user = {\n",
        "    \"nome\": \"Davi\", \n",
        "    \"idade\": 30, \n",
        "    \"status\": True,\n",
        "    \"peso\": 80.5,\n",
        "    \"notas\":[7, 8.9 ,10],\n",
        "    \"enderecao\":{\n",
        "        \"rua\":30,\n",
        "        \"bairro\": \"Vila Embratel\"\n",
        "    }\n",
        "}\n",
        "\n",
        "user[\"enderecao\"].values()\n"
      ],
      "metadata": {
        "colab": {
          "base_uri": "https://localhost:8080/"
        },
        "id": "2gY0zVI8fiPt",
        "outputId": "f3018262-1e96-4a37-bf25-c03f6f930ff4"
      },
      "execution_count": 21,
      "outputs": [
        {
          "output_type": "execute_result",
          "data": {
            "text/plain": [
              "dict_values([30, 'Vila Embratel'])"
            ]
          },
          "metadata": {},
          "execution_count": 21
        }
      ]
    },
    {
      "cell_type": "code",
      "source": [
        "#Exemplo com keys\n",
        "user = {\n",
        "    \"nome\": \"Davi\", \n",
        "    \"idade\": 30, \n",
        "    \"status\": True,\n",
        "    \"peso\": 80.5,\n",
        "    \"notas\":[7, 8.9 ,10],\n",
        "    \"enderecao\":{\n",
        "        \"rua\":30,\n",
        "        \"bairro\": \"Vila Embratel\"\n",
        "    }\n",
        "}\n",
        "\n",
        "user[\"enderecao\"].keys()"
      ],
      "metadata": {
        "colab": {
          "base_uri": "https://localhost:8080/"
        },
        "id": "EgsdtmeggFtM",
        "outputId": "dd0eeffd-6e70-415d-8b82-ed89394aca20"
      },
      "execution_count": 22,
      "outputs": [
        {
          "output_type": "execute_result",
          "data": {
            "text/plain": [
              "dict_keys(['rua', 'bairro'])"
            ]
          },
          "metadata": {},
          "execution_count": 22
        }
      ]
    },
    {
      "cell_type": "markdown",
      "source": [
        ">podemos retornar uma lista com todos os pares utilizando **items()** -retorna uma coleção de tuplas, onde cada tupla contém um par chave-valor do dicionário\n"
      ],
      "metadata": {
        "id": "HXcLJFhfgu37"
      }
    },
    {
      "cell_type": "code",
      "source": [
        "user = {\n",
        "    \"nome\": \"Davi\", \n",
        "    \"idade\": 30, \n",
        "    \"status\": True,\n",
        "    \"peso\": 80.5,\n",
        "    \"notas\":[7, 8.9 ,10],\n",
        "    \"enderecao\":{\n",
        "        \"rua\":30,\n",
        "        \"bairro\": \"Vila Embratel\"\n",
        "    }\n",
        "}\n",
        "\n",
        "user.items()"
      ],
      "metadata": {
        "colab": {
          "base_uri": "https://localhost:8080/"
        },
        "id": "qKsGat_WhNr8",
        "outputId": "fb4501b3-357c-4829-fcd0-adf312f8fd5f"
      },
      "execution_count": 23,
      "outputs": [
        {
          "output_type": "execute_result",
          "data": {
            "text/plain": [
              "dict_items([('nome', 'Davi'), ('idade', 30), ('status', True), ('peso', 80.5), ('notas', [7, 8.9, 10]), ('enderecao', {'rua': 30, 'bairro': 'Vila Embratel'})])"
            ]
          },
          "metadata": {},
          "execution_count": 23
        }
      ]
    },
    {
      "cell_type": "markdown",
      "source": [
        "##**Alterando valores**"
      ],
      "metadata": {
        "id": "tjX8_lpEhe__"
      }
    },
    {
      "cell_type": "code",
      "source": [
        "user = {\n",
        "    \"nome\": \"Davi\", \n",
        "    \"idade\": 30, \n",
        "    \"status\": True,\n",
        "    \"peso\": 80.5,\n",
        "    \"notas\":[7, 8.9 ,10],\n",
        "    \"enderecao\":{\n",
        "        \"rua\":30,\n",
        "        \"bairro\": \"Vila Embratel\"\n",
        "    }\n",
        "}\n",
        "\n",
        "user[\"status\"] = False  #observe que no código o status está true e para alterar, ele declarou a chave ente colchetes e colocou o novo status por meio da igualdade(=)"
      ],
      "metadata": {
        "id": "pEqVd9-eimum"
      },
      "execution_count": null,
      "outputs": []
    },
    {
      "cell_type": "markdown",
      "source": [
        "##**Percorrendo dicionário**"
      ],
      "metadata": {
        "id": "fHkGNx_mjSMj"
      }
    },
    {
      "cell_type": "markdown",
      "source": [
        "###Dicionários podem ser percorridos com um **for**. podemos definir utilizando o keys ou values."
      ],
      "metadata": {
        "id": "3yUv5cmZjeJ4"
      }
    },
    {
      "cell_type": "code",
      "source": [
        "#percorrendo com for e definindo com o KEYS\n",
        "\n",
        "user = {\n",
        "    \"nome\": \"Davi\", \n",
        "    \"idade\": 30, \n",
        "    \"status\": True,\n",
        "    \"peso\": 80.5,\n",
        "    \"notas\":[7, 8.9 ,10],\n",
        "    \"enderecao\":{\n",
        "        \"rua\":30,\n",
        "        \"bairro\": \"Vila Embratel\"\n",
        "    }\n",
        "}\n",
        "\n",
        "\n",
        "\n",
        "for k in user.keys():\n",
        "    print(k)"
      ],
      "metadata": {
        "colab": {
          "base_uri": "https://localhost:8080/"
        },
        "id": "7Hqhvl3Fj-1J",
        "outputId": "0866f94c-e0bb-4e2f-ada4-76c1bef1b400"
      },
      "execution_count": 24,
      "outputs": [
        {
          "output_type": "stream",
          "name": "stdout",
          "text": [
            "nome\n",
            "idade\n",
            "status\n",
            "peso\n",
            "notas\n",
            "enderecao\n"
          ]
        }
      ]
    },
    {
      "cell_type": "code",
      "source": [
        "#percorrendo com for e definindo com o VALUES\n",
        "\n",
        "user = {\n",
        "    \"nome\": \"Davi\", \n",
        "    \"idade\": 30, \n",
        "    \"status\": True,\n",
        "    \"peso\": 80.5,\n",
        "    \"notas\":[7, 8.9 ,10],\n",
        "    \"enderecao\":{\n",
        "        \"rua\":30,\n",
        "        \"bairro\": \"Vila Embratel\"\n",
        "    }\n",
        "}\n",
        "\n",
        "\n",
        "for v in user.values():\n",
        "    print(v)"
      ],
      "metadata": {
        "colab": {
          "base_uri": "https://localhost:8080/"
        },
        "id": "YHl6hLb4kbbr",
        "outputId": "dfd39a5a-cc96-452f-8fde-121df1504cfe"
      },
      "execution_count": 25,
      "outputs": [
        {
          "output_type": "stream",
          "name": "stdout",
          "text": [
            "Davi\n",
            "30\n",
            "True\n",
            "80.5\n",
            "[7, 8.9, 10]\n",
            "{'rua': 30, 'bairro': 'Vila Embratel'}\n"
          ]
        }
      ]
    },
    {
      "cell_type": "code",
      "source": [
        "#podemos também utilizar o ITEMS\n",
        "\n",
        "user = {\n",
        "    \"nome\": \"Davi\", \n",
        "    \"idade\": 30, \n",
        "    \"status\": True,\n",
        "    \"peso\": 80.5,\n",
        "    \"notas\":[7, 8.9 ,10],\n",
        "    \"enderecao\":{\n",
        "        \"rua\":30,\n",
        "        \"bairro\": \"Vila Embratel\"\n",
        "    }\n",
        "}\n",
        "\n",
        "\n",
        "for chave, valor in user.items(): # (nome, davi)\n",
        "    print(f\"{chave} -> {valor}\")"
      ],
      "metadata": {
        "colab": {
          "base_uri": "https://localhost:8080/"
        },
        "id": "wJIZf1lgkt1p",
        "outputId": "f1b66e47-dfc2-4741-aac2-121f6f727e5a"
      },
      "execution_count": 26,
      "outputs": [
        {
          "output_type": "stream",
          "name": "stdout",
          "text": [
            "nome -> Davi\n",
            "idade -> 30\n",
            "status -> True\n",
            "peso -> 80.5\n",
            "notas -> [7, 8.9, 10]\n",
            "enderecao -> {'rua': 30, 'bairro': 'Vila Embratel'}\n"
          ]
        }
      ]
    },
    {
      "cell_type": "markdown",
      "source": [
        "##**Adicionando elementos em um dicionário**\n",
        "\n",
        "###Para adicionar elementos, não precisamos de uma função pronta (como o append das listas). Basta \"acessar\" a nova chave e atribuir um novo valor.\n",
        "\n"
      ],
      "metadata": {
        "id": "VkIJ_orkfGDt"
      }
    },
    {
      "cell_type": "code",
      "source": [
        "user = {\n",
        "    \"nome\": \"Davi\", \n",
        "    \"idade\": 30, \n",
        "    \"status\": True,\n",
        "    \"peso\": 80.5,\n",
        "    \"notas\":[7, 8.9 ,10],\n",
        "    \"enderecao\":{\n",
        "        \"rua\":30,\n",
        "        \"bairro\": \"Vila Embratel\"\n",
        "    }\n",
        "}\n",
        "\n",
        "user"
      ],
      "metadata": {
        "colab": {
          "base_uri": "https://localhost:8080/"
        },
        "id": "kSO9wx4kfLoP",
        "outputId": "619299db-e352-4391-e72f-49ac5b6a704f"
      },
      "execution_count": 28,
      "outputs": [
        {
          "output_type": "execute_result",
          "data": {
            "text/plain": [
              "{'nome': 'Davi',\n",
              " 'idade': 30,\n",
              " 'status': True,\n",
              " 'peso': 80.5,\n",
              " 'notas': [7, 8.9, 10],\n",
              " 'enderecao': {'rua': 30, 'bairro': 'Vila Embratel'}}"
            ]
          },
          "metadata": {},
          "execution_count": 28
        }
      ]
    },
    {
      "cell_type": "code",
      "source": [
        "user[\"saldo\"] = 100000000000000    #adicionando esse elemento"
      ],
      "metadata": {
        "id": "dVKP0lkylWik"
      },
      "execution_count": 29,
      "outputs": []
    },
    {
      "cell_type": "code",
      "source": [
        "user  #chamando e observe que o elemento que adicionamos está no final."
      ],
      "metadata": {
        "colab": {
          "base_uri": "https://localhost:8080/"
        },
        "id": "A1WmrF-hlh-e",
        "outputId": "68a4bfcb-34f1-4e1a-ee2d-b1b43487ffa9"
      },
      "execution_count": 30,
      "outputs": [
        {
          "output_type": "execute_result",
          "data": {
            "text/plain": [
              "{'nome': 'Davi',\n",
              " 'idade': 30,\n",
              " 'status': True,\n",
              " 'peso': 80.5,\n",
              " 'notas': [7, 8.9, 10],\n",
              " 'enderecao': {'rua': 30, 'bairro': 'Vila Embratel'},\n",
              " 'saldo': 100000000000000}"
            ]
          },
          "metadata": {},
          "execution_count": 30
        }
      ]
    },
    {
      "cell_type": "markdown",
      "source": [
        ">além desse modo para adicionar elementos, podemos utilizar **update.**"
      ],
      "metadata": {
        "id": "BLFh_a-FmOuS"
      }
    },
    {
      "cell_type": "code",
      "source": [
        "#Adicionando somente um elemento\n",
        "\n",
        "user = {\n",
        "    \"nome\": \"Davi\", \n",
        "    \"idade\": 30, \n",
        "    \"status\": True,\n",
        "    \"peso\": 80.5,\n",
        "    \"notas\":[7, 8.9 ,10],\n",
        "    \"enderecao\":{\n",
        "        \"rua\":30,\n",
        "        \"bairro\": \"Vila Embratel\"\n",
        "    }\n",
        "}\n",
        "\n",
        "\n",
        "user.update(cpf= \"041.234.234-23\") "
      ],
      "metadata": {
        "id": "-95f5UCWm0kB"
      },
      "execution_count": 33,
      "outputs": []
    },
    {
      "cell_type": "code",
      "source": [
        "user #chamando e observe que o elemento que adicionamos está no final."
      ],
      "metadata": {
        "colab": {
          "base_uri": "https://localhost:8080/"
        },
        "id": "IlnyXqx0nfOo",
        "outputId": "9bc3380d-51cd-43b4-e484-7cff81ac4f67"
      },
      "execution_count": 34,
      "outputs": [
        {
          "output_type": "execute_result",
          "data": {
            "text/plain": [
              "{'nome': 'Davi',\n",
              " 'idade': 30,\n",
              " 'status': True,\n",
              " 'peso': 80.5,\n",
              " 'notas': [7, 8.9, 10],\n",
              " 'enderecao': {'rua': 30, 'bairro': 'Vila Embratel'},\n",
              " 'cpf': '041.234.234-23'}"
            ]
          },
          "metadata": {},
          "execution_count": 34
        }
      ]
    },
    {
      "cell_type": "code",
      "source": [
        "#Adicionando varios elementos\n",
        "\n",
        "user = {\n",
        "    \"nome\": \"Davi\", \n",
        "    \"idade\": 30, \n",
        "    \"status\": True,\n",
        "    \"peso\": 80.5,\n",
        "    \"enderecao\":{\n",
        "        \"rua\":30,\n",
        "        \"bairro\": \"Vila Embratel\"\n",
        "    }\n",
        "}\n",
        "\n",
        "user.update({\n",
        "    'notas': [7, 8.9, 10],\n",
        "    'saldo':200000000000\n",
        "    })"
      ],
      "metadata": {
        "id": "OpmJgM71nxsK"
      },
      "execution_count": 44,
      "outputs": []
    },
    {
      "cell_type": "code",
      "source": [
        "user #chamando e observe que o elemento que adicionamos está no final."
      ],
      "metadata": {
        "colab": {
          "base_uri": "https://localhost:8080/"
        },
        "id": "6jNzCGD4ooL0",
        "outputId": "94072ee7-f782-4019-bc8b-0fc00ed96aa2"
      },
      "execution_count": 45,
      "outputs": [
        {
          "output_type": "execute_result",
          "data": {
            "text/plain": [
              "{'nome': 'Davi',\n",
              " 'idade': 30,\n",
              " 'status': True,\n",
              " 'peso': 80.5,\n",
              " 'enderecao': {'rua': 30, 'bairro': 'Vila Embratel'},\n",
              " 'notas': [7, 8.9, 10],\n",
              " 'saldo': 200000000000}"
            ]
          },
          "metadata": {},
          "execution_count": 45
        }
      ]
    },
    {
      "cell_type": "markdown",
      "source": [
        "##**Excluindo elementos no dicionário**"
      ],
      "metadata": {
        "id": "t3GOUahfo-hV"
      }
    },
    {
      "cell_type": "markdown",
      "source": [
        ">Você pode remover um elemento utilizando o **del**, passando a chave a ser removida."
      ],
      "metadata": {
        "id": "9EkpJp76qIDs"
      }
    },
    {
      "cell_type": "code",
      "source": [
        "\n",
        "user = {\n",
        "    \"nome\": \"Davi\", \n",
        "    \"idade\": 30, \n",
        "    \"status\": True,\n",
        "    \"peso\": 80.5,\n",
        "    \"endereco\":{\n",
        "        \"rua\":30,\n",
        "        \"bairro\": \"Vila Embratel\"\n",
        "    }\n",
        "}\n",
        "del user[\"endereco\"]"
      ],
      "metadata": {
        "id": "p4gfkLTZpvdd"
      },
      "execution_count": 51,
      "outputs": []
    },
    {
      "cell_type": "code",
      "source": [
        "user #chamando e observe que endereço, saiu desse dicionario."
      ],
      "metadata": {
        "colab": {
          "base_uri": "https://localhost:8080/"
        },
        "id": "J48_G9grqhMA",
        "outputId": "64119106-821c-4cbe-fce1-3aac88ac9cb0"
      },
      "execution_count": 52,
      "outputs": [
        {
          "output_type": "execute_result",
          "data": {
            "text/plain": [
              "{'nome': 'Davi', 'idade': 30, 'status': True, 'peso': 80.5}"
            ]
          },
          "metadata": {},
          "execution_count": 52
        }
      ]
    },
    {
      "cell_type": "markdown",
      "source": [
        ">além dessa forma,podemos remover um elemento de um dicionário através do método **pop**. Você deve passar a chave a ser removida."
      ],
      "metadata": {
        "id": "ACD1KeT6pPpW"
      }
    },
    {
      "cell_type": "code",
      "source": [
        "user = {\n",
        "    \"nome\": \"Davi\", \n",
        "    \"idade\": 30, \n",
        "    \"status\": True,\n",
        "    \"peso\": 80.5,\n",
        "    \"endereco\":{\n",
        "        \"rua\":30,\n",
        "        \"bairro\": \"Vila Embratel\"\n",
        "    }\n",
        "}\n"
      ],
      "metadata": {
        "id": "VwcVvRYBpVnn"
      },
      "execution_count": 61,
      "outputs": []
    },
    {
      "cell_type": "code",
      "source": [
        "v = user.pop('peso') # remove item da chave indicada"
      ],
      "metadata": {
        "id": "JiltmM5qrUqZ"
      },
      "execution_count": 62,
      "outputs": []
    },
    {
      "cell_type": "code",
      "source": [
        "user #chamando e observe que o elemento peso saiu do dicionario"
      ],
      "metadata": {
        "colab": {
          "base_uri": "https://localhost:8080/"
        },
        "id": "IvoKmx3urhz-",
        "outputId": "1ca8d5c0-f9b7-4ef4-b955-fcc6e3535b92"
      },
      "execution_count": 63,
      "outputs": [
        {
          "output_type": "execute_result",
          "data": {
            "text/plain": [
              "{'nome': 'Davi',\n",
              " 'idade': 30,\n",
              " 'status': True,\n",
              " 'endereco': {'rua': 30, 'bairro': 'Vila Embratel'}}"
            ]
          },
          "metadata": {},
          "execution_count": 63
        }
      ]
    },
    {
      "cell_type": "markdown",
      "source": [
        "##**Praticando**\n"
      ],
      "metadata": {
        "id": "InVNVtoXuFEe"
      }
    },
    {
      "cell_type": "markdown",
      "source": [
        "###**Como você armazenaria a seguinte tabela usando apenas dicionários? Tente imprimir conforme a seguir.**\n",
        "```\n",
        "        Coluna A\tColuna B\n",
        "Maria\t1\t          5\n",
        "Pedro\t0.5\t        3\n",
        "João\t 3.2\t        1\n",
        "```"
      ],
      "metadata": {
        "id": "oDeOdCGNrwzz"
      }
    },
    {
      "cell_type": "code",
      "source": [
        "#Resolução 1\n",
        "\n",
        "l1 = ['Maria', 'Pedro', 'João']\n",
        "l2 = [[1, 5], [0.5, 3], [3.2, 1]]\n",
        "\n",
        "user = tuple(zip(l1, l2))\n",
        "\n",
        "print(\"\\t Coluna A\\tColuna B\")\n",
        "for i, j in zip(l1,l2):\n",
        "    print(f'\\n{i}\\t{j[0]}  \\t\\t{j[1]}')"
      ],
      "metadata": {
        "colab": {
          "base_uri": "https://localhost:8080/"
        },
        "id": "48jdDpg3r-ld",
        "outputId": "19ab429c-15fb-45a2-a973-d2648e82386a"
      },
      "execution_count": 72,
      "outputs": [
        {
          "output_type": "stream",
          "name": "stdout",
          "text": [
            "\t Coluna A\tColuna B\n",
            "\n",
            "Maria\t1  \t\t5\n",
            "\n",
            "Pedro\t0.5  \t\t3\n",
            "\n",
            "João\t3.2  \t\t1\n"
          ]
        }
      ]
    },
    {
      "cell_type": "code",
      "source": [
        "#Resolução 2\n",
        "\n",
        "l = [\n",
        "    {\"nome\": \"Maria\",\"Coluna A\":1,\"Coluna B\":5},\n",
        "     {\"nome\": \"Pedro\",\"Coluna A\":0.5,\"Coluna B\":3},\n",
        "     {\"nome\": \"João\",\"Coluna A\":3.2,\"Coluna B\":1}\n",
        "]\n",
        "\n",
        "print(\"\\t Coluna A\\t Coluna B\")\n",
        "for d in l:\n",
        "    # print(d)\n",
        "    print(f\"{d['nome']} \\t {d['Coluna A']} \\t\\t {d['Coluna B']}\")"
      ],
      "metadata": {
        "colab": {
          "base_uri": "https://localhost:8080/"
        },
        "id": "859jOr9RtCdb",
        "outputId": "b55de7f2-d872-427d-c6f3-9bee7e32541c"
      },
      "execution_count": 73,
      "outputs": [
        {
          "output_type": "stream",
          "name": "stdout",
          "text": [
            "\t Coluna A\t Coluna B\n",
            "Maria \t 1 \t\t 5\n",
            "Pedro \t 0.5 \t\t 3\n",
            "João \t 3.2 \t\t 1\n"
          ]
        }
      ]
    },
    {
      "cell_type": "markdown",
      "source": [
        "###**Crie um programa (usando dicionários) que tenha o nome de três alunos, suas três notas, que calcule a média entre elas e que por fim imprima o nome do aluno e sua situação.**\n",
        "\n",
        "- Se a média menor que 4.0, reprovado;\n",
        "- Nota maior que quatro e menor que 7, recuperação;\n",
        "- Nota maior que 7, aprovado."
      ],
      "metadata": {
        "id": "4t0WwfYtwNiE"
      }
    },
    {
      "cell_type": "code",
      "source": [
        "\n",
        "la = [\n",
        "    {\"nome\":\"Davi\", \"notas\":[7,8,9]},\n",
        "     {\"nome\":\"Ana\", \"notas\":[0,5,9]},\n",
        "     {\"nome\":\"Kelly\", \"notas\":[5,5,5]}\n",
        "]\n",
        "\n",
        "\n",
        "for d in la:\n",
        "    media = sum(d[\"notas\"])/len(d[\"notas\"])\n",
        "    \n",
        "    if media<=4:\n",
        "        print(f\"{d['nome']}: Reprovado\")\n",
        "    elif media>4 and media<7:\n",
        "        print(f\"{d['nome']}: Recuperação\")\n",
        "    else:\n",
        "        print(f\"{d['nome']}: Aprovado\")"
      ],
      "metadata": {
        "colab": {
          "base_uri": "https://localhost:8080/"
        },
        "id": "qVTdt3t6wfbj",
        "outputId": "ff965d10-3668-4d4f-b663-b4f56bb98ec9"
      },
      "execution_count": 76,
      "outputs": [
        {
          "output_type": "stream",
          "name": "stdout",
          "text": [
            "Davi: Aprovado\n",
            "Ana: Recuperação\n",
            "Kelly: Recuperação\n"
          ]
        }
      ]
    }
  ]
}