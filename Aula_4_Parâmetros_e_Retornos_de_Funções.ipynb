{
  "nbformat": 4,
  "nbformat_minor": 0,
  "metadata": {
    "colab": {
      "provenance": [],
      "collapsed_sections": [],
      "authorship_tag": "ABX9TyNEQXANQH6//xP0/p69I6+B",
      "include_colab_link": true
    },
    "kernelspec": {
      "name": "python3",
      "display_name": "Python 3"
    },
    "language_info": {
      "name": "python"
    }
  },
  "cells": [
    {
      "cell_type": "markdown",
      "metadata": {
        "id": "view-in-github",
        "colab_type": "text"
      },
      "source": [
        "<a href=\"https://colab.research.google.com/github/ElizangelaStudent/L-GICA-DE-PROGRAMA-O-II-PY-/blob/main/Aula_4_Par%C3%A2metros_e_Retornos_de_Fun%C3%A7%C3%B5es.ipynb\" target=\"_parent\"><img src=\"https://colab.research.google.com/assets/colab-badge.svg\" alt=\"Open In Colab\"/></a>"
      ]
    },
    {
      "cell_type": "markdown",
      "source": [
        "##**Parâmetros e Retornos de Funções**"
      ],
      "metadata": {
        "id": "MwwOdu5yjT_9"
      }
    },
    {
      "cell_type": "markdown",
      "source": [
        "###Quando estudamos funções, aprendemos que elas podem receber dados (parâmetros) e podem fornecer uma resposta (retorno). Porém, o número de parâmetros era fixo para cada função: um dado para cada parâmetro que declaramos na definição da função. Da mesma forma, a função poderia retornar exatamente um resultado.\n",
        "\n",
        "###Em alguns casos, mais flexibilidade seria útil. Utilizando tuplas e dicionários conseguimos essa flexibilidade."
      ],
      "metadata": {
        "id": "5RLJXjmwjY6F"
      }
    },
    {
      "cell_type": "markdown",
      "source": [
        "##**Funções com retorno múltiplo**"
      ],
      "metadata": {
        "id": "RdIPS6oQjqVT"
      }
    },
    {
      "cell_type": "markdown",
      "source": [
        "> É uma uma função que **retorna**(return) os valores máximo e mínimo de uma coleção, separados por vírgula. "
      ],
      "metadata": {
        "id": "2zJGwvxXjs7j"
      }
    },
    {
      "cell_type": "code",
      "source": [
        "def min_max(l):\n",
        "    maior = max(l)\n",
        "    menor = min(l)\n",
        "    t =  len(l)\n",
        "    p = l[0]\n",
        "    return p, menor, maior, t # por padrão retorna uma tupla\n",
        "\n",
        "l = [1,2,3,4,5]"
      ],
      "metadata": {
        "id": "eFkRH1wfj6iS"
      },
      "execution_count": 1,
      "outputs": []
    },
    {
      "cell_type": "code",
      "source": [
        "maior, menor, t, p = min_max(l)"
      ],
      "metadata": {
        "id": "arijbb9ZkAg-"
      },
      "execution_count": 2,
      "outputs": []
    },
    {
      "cell_type": "code",
      "source": [
        "a =  min_max(l)"
      ],
      "metadata": {
        "id": "b2EV5XdBkDhM"
      },
      "execution_count": 3,
      "outputs": []
    },
    {
      "cell_type": "code",
      "source": [
        "a"
      ],
      "metadata": {
        "colab": {
          "base_uri": "https://localhost:8080/"
        },
        "id": "oa4wx8c5kErz",
        "outputId": "5c3b56a2-4640-41a9-e556-535f65d6ba26"
      },
      "execution_count": 4,
      "outputs": [
        {
          "output_type": "execute_result",
          "data": {
            "text/plain": [
              "(1, 1, 5, 5)"
            ]
          },
          "metadata": {},
          "execution_count": 4
        }
      ]
    },
    {
      "cell_type": "markdown",
      "source": [
        "##**Parâmetros com valores padrão**"
      ],
      "metadata": {
        "id": "e54FPESykT5F"
      }
    },
    {
      "cell_type": "markdown",
      "source": [
        "###Uma primeira forma de trabalhar com a ideia de parâmetros opcionais é atribuir valores padrão para nossos parâmetros. Quando fazemos isso, quando a função **for** chamada, o parâmetro pode ou não ser passado. Caso ele não seja passado, é adotado o valor padrão.\n",
        "\n",
        "###Devemos primeiro colocar os parâmetros \"comuns\" (conhecidos como argumentos posicionais) para depois colocar os argumentos com valor padrão."
      ],
      "metadata": {
        "id": "jBbP5IRckW-c"
      }
    },
    {
      "cell_type": "markdown",
      "source": [
        "###**Tipagem**"
      ],
      "metadata": {
        "id": "NMU4aXsDk1Mj"
      }
    },
    {
      "cell_type": "markdown",
      "source": [
        ">Os tipos já observamos no primeiro modulo, que podem ser do tipo string(str), interio(int), real(float) e booleano(bool)."
      ],
      "metadata": {
        "id": "GsQpOwt0k5J7"
      }
    },
    {
      "cell_type": "markdown",
      "source": [
        "```c\n",
        "// Em linguagem C/C++\n",
        "int num1 = 25;\n",
        "int num2 = 30;\n",
        "\n",
        "\n",
        "int soma(int num1, int num2){\n",
        "    return (num1 + num2);\n",
        "}\n",
        "```"
      ],
      "metadata": {
        "id": "_Xnlmn0ZlTaC"
      }
    },
    {
      "cell_type": "code",
      "source": [
        "#Quando utilizamos funçoes, podemos definir o tipo, dentro dessa função, observe abaixo:\n",
        "\n",
        "def create_user(id: int, \n",
        "                nome:str, \n",
        "                fone:str, \n",
        "                address:str = None,  # Parâmetro opcional\n",
        "                status:bool = True   # Parâmetro padrão\n",
        "                ) -> dict:\n",
        "\n",
        "    d = {\n",
        "        \"id\":id,\n",
        "        \"nome\":nome,\n",
        "        \"fone\":fone,\n",
        "        \"address\":address,\n",
        "        \"status\":status\n",
        "    }\n",
        "\n",
        "    return d"
      ],
      "metadata": {
        "id": "-pbvduC8lW9k"
      },
      "execution_count": 6,
      "outputs": []
    },
    {
      "cell_type": "code",
      "source": [
        "create_user(id=1,nome=\"davi\",fone=\"2143214234\")"
      ],
      "metadata": {
        "colab": {
          "base_uri": "https://localhost:8080/"
        },
        "id": "TUc8iCRPln96",
        "outputId": "997dbb52-12b3-414f-e75a-f4d6a7f48680"
      },
      "execution_count": 7,
      "outputs": [
        {
          "output_type": "execute_result",
          "data": {
            "text/plain": [
              "{'id': 1,\n",
              " 'nome': 'davi',\n",
              " 'fone': '2143214234',\n",
              " 'address': None,\n",
              " 'status': True}"
            ]
          },
          "metadata": {},
          "execution_count": 7
        }
      ]
    },
    {
      "cell_type": "markdown",
      "source": [
        "##**Praticando**"
      ],
      "metadata": {
        "id": "xlgABMRrlsIN"
      }
    },
    {
      "cell_type": "markdown",
      "source": [
        "###**Faça um programa que solicite a data denascimento (dd/mm/aaaa) do usuário e imprima a data com o nome do mês porextenso. O programa deve chamar uma função que retorna o mês convertido.** \n",
        "\n",
        "**Exemplo:**\n",
        "- Entrada - Data de Nascimento: 29/10/1973\n",
        "- Saída - Você nasceu em 29 de Outubro de 1973."
      ],
      "metadata": {
        "id": "9L8kmbrclvsD"
      }
    },
    {
      "cell_type": "code",
      "source": [
        "# torna a data uma lista\n",
        "def sep_data(data:str) -> list:\n",
        "    separado = data.split('/')\n",
        "    return separado\n",
        "\n",
        "# retornar posição do mês\n",
        "def get_mes(mes:str)-> str:\n",
        "    mes = int(mes)\n",
        "    meses = [\"janeiro\",\"fevereiro\",\"março\",\"abril\",\n",
        "             \"maio\",\"junho\",\"julho\",\"agosto\",\"setembro\",\n",
        "             \"outubro\",\"novembro\",\"dezembro\"]\n",
        "    return meses[mes-1]\n",
        "\n",
        "def imprime(dia:str, mes:str, ano:str) -> None:\n",
        "    print(f\"Você nasceu em {dia} de {mes} de {ano}.\")\n",
        "\n",
        "\n",
        "# input de data\n",
        "def input_data() -> str:\n",
        "    data = input(\"Data de Nascimento: \")\n",
        "    return data\n",
        "\n",
        "def main():\n",
        "    niver = input_data()\n",
        "    dia, mes, ano = sep_data(niver)\n",
        "    m = get_mes(mes)\n",
        "    imprime(dia, m, ano)\n",
        "   "
      ],
      "metadata": {
        "id": "iQBDwg1Al7yz"
      },
      "execution_count": 8,
      "outputs": []
    },
    {
      "cell_type": "code",
      "source": [
        "main()  # chamando a função"
      ],
      "metadata": {
        "colab": {
          "base_uri": "https://localhost:8080/"
        },
        "id": "KVwokN76mC2S",
        "outputId": "098d42cc-f1c6-4d2e-d467-be30b87f4fe8"
      },
      "execution_count": 10,
      "outputs": [
        {
          "output_type": "stream",
          "name": "stdout",
          "text": [
            "Data de Nascimento: 02/10/2010\n",
            "Você nasceu em 02 de outubro de 2010.\n"
          ]
        }
      ]
    }
  ]
}