{
  "nbformat": 4,
  "nbformat_minor": 0,
  "metadata": {
    "colab": {
      "provenance": [],
      "collapsed_sections": [],
      "authorship_tag": "ABX9TyMVK8rD8vrbFJIcEm4bLHN1",
      "include_colab_link": true
    },
    "kernelspec": {
      "name": "python3",
      "display_name": "Python 3"
    },
    "language_info": {
      "name": "python"
    }
  },
  "cells": [
    {
      "cell_type": "markdown",
      "metadata": {
        "id": "view-in-github",
        "colab_type": "text"
      },
      "source": [
        "<a href=\"https://colab.research.google.com/github/ElizangelaStudent/L-GICA-DE-PROGRAMA-O-II-PY-/blob/main/Aula_5_Compreens%C3%A3o_de_listas_e_express%C3%B5es_geradoras.ipynb\" target=\"_parent\"><img src=\"https://colab.research.google.com/assets/colab-badge.svg\" alt=\"Open In Colab\"/></a>"
      ]
    },
    {
      "cell_type": "markdown",
      "source": [
        "##**Aula 5 - Compreensão de listas e expressões geradoras**"
      ],
      "metadata": {
        "id": "Q4c-r_Ykn6a0"
      }
    },
    {
      "cell_type": "markdown",
      "source": [
        "###Muito do que estudamos até o momento em Python pode ser reproduzido de maneira parecida em outras linguagens. Comandos como if, else, while e for, bem como conceitos como criar funções, passar parâmetros e retornar valores são comuns a uma infinidade de linguagens de programação.\n",
        "\n",
        "###Porém, um dos objetivos da linguagem Python é realizar o máximo possível de trabalho com a menor quantidade possível de código, resultando em um código mais limpo e com menos efeitos colaterais.\n",
        "\n",
        "###Com isso, o Python traz maneiras diferentes e mais enxutas de resolver problemas que já lidávamos bem utilizando outras técnicas. Parte dessas técnicas foi inspirada em conceitos de **programação funcional**, que será explicada um pouco melhor em um capítulo futuro.\n",
        "\n",
        "###As compreensões de **listas e expressões geradoras** são algumas dessas ferramentas."
      ],
      "metadata": {
        "id": "-x38BDO4otBp"
      }
    },
    {
      "cell_type": "markdown",
      "source": [
        "##**Compreensão de listas contendo apenas um loop**"
      ],
      "metadata": {
        "id": "LRlYvcjHo-MR"
      }
    },
    {
      "cell_type": "markdown",
      "source": [
        ">Utilizando for e o range"
      ],
      "metadata": {
        "id": "Wdsu1EsFpAuy"
      }
    },
    {
      "cell_type": "code",
      "execution_count": 4,
      "metadata": {
        "colab": {
          "base_uri": "https://localhost:8080/"
        },
        "id": "8cY06D2InzeD",
        "outputId": "5ad4ef8b-0c33-42b4-809b-2ac150d57352"
      },
      "outputs": [
        {
          "output_type": "stream",
          "name": "stdout",
          "text": [
            "CPU times: user 4 µs, sys: 0 ns, total: 4 µs\n",
            "Wall time: 8.34 µs\n"
          ]
        }
      ],
      "source": [
        "%time # magic command\n",
        "\n",
        "l = [] # [1]\n",
        "for i in range(100000000):\n",
        "    l.append(i)\n",
        "    break\n"
      ]
    },
    {
      "cell_type": "code",
      "source": [
        "'''\n",
        "- declare variable\n",
        "- 1 interator\n",
        "- i -> l\n",
        "- 1 interator\n",
        "- i -> l\n",
        "- 1 interator\n",
        "- i -> l\n",
        "- 1 interator\n",
        "- i -> l\n",
        "- 1 interator\n",
        "- i -> l\n",
        "- 1 interator\n",
        "- i -> l\n",
        "- 1 interator\n",
        "- i -> l\n",
        "- 1 interator\n",
        "- i -> l\n",
        "'''"
      ],
      "metadata": {
        "colab": {
          "base_uri": "https://localhost:8080/",
          "height": 54
        },
        "id": "NpAgMWW_paXB",
        "outputId": "1743d6c1-7386-40e0-9eae-fc1da5c87c49"
      },
      "execution_count": 3,
      "outputs": [
        {
          "output_type": "execute_result",
          "data": {
            "text/plain": [
              "'\\n- declare variable\\n- 1 interator\\n- i -> l\\n- 1 interator\\n- i -> l\\n- 1 interator\\n- i -> l\\n- 1 interator\\n- i -> l\\n- 1 interator\\n- i -> l\\n- 1 interator\\n- i -> l\\n- 1 interator\\n- i -> l\\n- 1 interator\\n- i -> l\\n'"
            ],
            "application/vnd.google.colaboratory.intrinsic+json": {
              "type": "string"
            }
          },
          "metadata": {},
          "execution_count": 3
        }
      ]
    },
    {
      "cell_type": "code",
      "source": [
        "%time\n",
        "x = [i for i in range(10)]"
      ],
      "metadata": {
        "colab": {
          "base_uri": "https://localhost:8080/"
        },
        "id": "1gnxfDUXpqNx",
        "outputId": "7eed88ec-ba54-4181-d34a-7f357006487b"
      },
      "execution_count": 8,
      "outputs": [
        {
          "output_type": "stream",
          "name": "stdout",
          "text": [
            "CPU times: user 3 µs, sys: 0 ns, total: 3 µs\n",
            "Wall time: 8.58 µs\n"
          ]
        }
      ]
    },
    {
      "cell_type": "code",
      "source": [
        "x  #chamando a função"
      ],
      "metadata": {
        "colab": {
          "base_uri": "https://localhost:8080/"
        },
        "id": "80pH8lgKqHfX",
        "outputId": "78042759-bd07-4921-d702-ee9823e36150"
      },
      "execution_count": 9,
      "outputs": [
        {
          "output_type": "execute_result",
          "data": {
            "text/plain": [
              "[0, 1, 2, 3, 4, 5, 6, 7, 8, 9]"
            ]
          },
          "metadata": {},
          "execution_count": 9
        }
      ]
    },
    {
      "cell_type": "code",
      "source": [
        "# outro exemplo utilizando range-acrescentando um numero a mais a operação\n",
        "l = [] \n",
        "for i in range(10): # 0\n",
        "    s = i + 2\n",
        "    l.append(s) # l.append(i + 2)\n",
        "l"
      ],
      "metadata": {
        "colab": {
          "base_uri": "https://localhost:8080/"
        },
        "id": "A6omSlDzqY0i",
        "outputId": "54d32275-a549-402d-9028-3bf90e89b5e3"
      },
      "execution_count": 10,
      "outputs": [
        {
          "output_type": "execute_result",
          "data": {
            "text/plain": [
              "[2, 3, 4, 5, 6, 7, 8, 9, 10, 11]"
            ]
          },
          "metadata": {},
          "execution_count": 10
        }
      ]
    },
    {
      "cell_type": "code",
      "source": [
        "#podemos definir a função acima(l=[]) de uma forma mais rapida, fazendo a compreensão da lista, veja:\n",
        "\n",
        "x = [i+2 for i in range(10)]\n",
        "x"
      ],
      "metadata": {
        "colab": {
          "base_uri": "https://localhost:8080/"
        },
        "id": "UQU4cInqqkqT",
        "outputId": "adb73d66-685c-4f12-fbb0-0efa6d6c9da2"
      },
      "execution_count": 11,
      "outputs": [
        {
          "output_type": "execute_result",
          "data": {
            "text/plain": [
              "[2, 3, 4, 5, 6, 7, 8, 9, 10, 11]"
            ]
          },
          "metadata": {},
          "execution_count": 11
        }
      ]
    },
    {
      "cell_type": "markdown",
      "source": [
        "##**Condicionais em compreensões**\n",
        "\n"
      ],
      "metadata": {
        "id": "t5Wka2zprAGw"
      }
    },
    {
      "cell_type": "markdown",
      "source": [
        ">Podemos utilizar compreensões em nossas condicionais. Imagine que não fossem aceitos valores \"quebrados\" no exemplo anterior. Logo, não podemos dividir os números ímpares, apenas os pares. Fazemos isso usando um **if** e **else**  na expressão:"
      ],
      "metadata": {
        "id": "DZOdwAjQrLyC"
      }
    },
    {
      "cell_type": "code",
      "source": [
        "# exemplo utilizando a forma simples, antes da compreensão\n",
        "\n",
        "# neste exemplo estamos querendo somente os numeros pares.\n",
        "l = [] \n",
        "\n",
        "for i in range(10): \n",
        "    if i%2==0:\n",
        "        l.append(i)\n",
        "    else:\n",
        "        l.append(\"N é par\") \n",
        "l"
      ],
      "metadata": {
        "colab": {
          "base_uri": "https://localhost:8080/"
        },
        "id": "C4VCubyHrXVY",
        "outputId": "0f9a4c70-46ba-477e-d5cd-93fe27c73075"
      },
      "execution_count": 12,
      "outputs": [
        {
          "output_type": "execute_result",
          "data": {
            "text/plain": [
              "[0, 'N é par', 2, 'N é par', 4, 'N é par', 6, 'N é par', 8, 'N é par']"
            ]
          },
          "metadata": {},
          "execution_count": 12
        }
      ]
    },
    {
      "cell_type": "code",
      "source": [
        "#agora veja o mesmo exemplo, mas utilizando a compreensão de lista\n",
        "\n",
        "[i if i%2==0  else \"N é par\" for i in range(10)]"
      ],
      "metadata": {
        "colab": {
          "base_uri": "https://localhost:8080/"
        },
        "id": "memwzuqvridF",
        "outputId": "bd8d9019-6faa-4743-da03-19f896c15888"
      },
      "execution_count": 13,
      "outputs": [
        {
          "output_type": "execute_result",
          "data": {
            "text/plain": [
              "[0, 'N é par', 2, 'N é par', 4, 'N é par', 6, 'N é par', 8, 'N é par']"
            ]
          },
          "metadata": {},
          "execution_count": 13
        }
      ]
    },
    {
      "cell_type": "code",
      "source": [
        "# o mesmo exemplo, mas otimizando-a, utilizando range e if\n",
        "\n",
        "[i for i in range(10) if i%2==0]"
      ],
      "metadata": {
        "colab": {
          "base_uri": "https://localhost:8080/"
        },
        "id": "cA2NaeRlsAbg",
        "outputId": "55434b44-094e-4050-9042-6974eaf5082f"
      },
      "execution_count": 14,
      "outputs": [
        {
          "output_type": "execute_result",
          "data": {
            "text/plain": [
              "[0, 2, 4, 6, 8]"
            ]
          },
          "metadata": {},
          "execution_count": 14
        }
      ]
    },
    {
      "cell_type": "markdown",
      "source": [
        "##**Praticando**"
      ],
      "metadata": {
        "id": "R-XruZfosN5n"
      }
    },
    {
      "cell_type": "markdown",
      "source": [
        "###**Usando compreensão de listas, faça um programa que pergunte o preço de três produtos e informe qual produto você deve comprar, sabendo que a decisão é sempre pelo mais barato.**"
      ],
      "metadata": {
        "id": "6MqCUy3bsg1q"
      }
    },
    {
      "cell_type": "code",
      "source": [
        "#Resolução 1\n",
        "\n",
        "p = min([int(input(f\"Produto {i+1}: \")) for i in range(3)])\n",
        "\n",
        "print(\"Compre: \", p)"
      ],
      "metadata": {
        "colab": {
          "base_uri": "https://localhost:8080/"
        },
        "id": "1hoOLIXms8te",
        "outputId": "53f7e311-b282-4fd1-ca5b-ae085fc2cb50"
      },
      "execution_count": 15,
      "outputs": [
        {
          "output_type": "stream",
          "name": "stdout",
          "text": [
            "Produto 1: 10\n",
            "Produto 2: 25\n",
            "Produto 3: 46\n",
            "Compre:  10\n"
          ]
        }
      ]
    },
    {
      "cell_type": "code",
      "source": [
        "#Resolução 2\n",
        "\n",
        "# lista_produtos = []\n",
        "\n",
        "# for prod in range(3):\n",
        "#     valor = float(input('Digite o preço: '))\n",
        "#     lista_produtos.append(valor)\n",
        "\n",
        "# menor_valor= min(lista_produtos)\n",
        "# print(menor_valor)\n",
        "\n",
        "\n",
        "menor_valor = min([float(input('Digite o preço: ')) for prod in range(3)])\n",
        "menor_valor"
      ],
      "metadata": {
        "colab": {
          "base_uri": "https://localhost:8080/"
        },
        "id": "kkdln-B9tGmX",
        "outputId": "9d2e7a69-72e2-4a5e-bc44-6c90155a3f4e"
      },
      "execution_count": 17,
      "outputs": [
        {
          "name": "stdout",
          "output_type": "stream",
          "text": [
            "Digite o preço: 125\n",
            "Digite o preço: 136\n",
            "Digite o preço: 142\n"
          ]
        },
        {
          "output_type": "execute_result",
          "data": {
            "text/plain": [
              "125.0"
            ]
          },
          "metadata": {},
          "execution_count": 17
        }
      ]
    },
    {
      "cell_type": "code",
      "source": [
        "#Resolução 3\n",
        "\n",
        "min([int(input(f\"Produto {i+1}: \")) for i in range(3)])"
      ],
      "metadata": {
        "colab": {
          "base_uri": "https://localhost:8080/"
        },
        "id": "bOcKVy3gthnn",
        "outputId": "2a382a14-275b-43e5-b29f-ae42237d0ae8"
      },
      "execution_count": 18,
      "outputs": [
        {
          "name": "stdout",
          "output_type": "stream",
          "text": [
            "Produto 1: 110\n",
            "Produto 2: 45\n",
            "Produto 3: 129\n"
          ]
        },
        {
          "output_type": "execute_result",
          "data": {
            "text/plain": [
              "45"
            ]
          },
          "metadata": {},
          "execution_count": 18
        }
      ]
    },
    {
      "cell_type": "markdown",
      "source": [
        "##**Aninhando compreensões**"
      ],
      "metadata": {
        "id": "7p3ywxjotr9P"
      }
    },
    {
      "cell_type": "markdown",
      "source": [
        ">É possível aninhar compreensões de lista. Ao colocarmos mais de um **for** consecutivo, o primeiro for será considerado o mais externo, e o seguinte, mais interno.O exemplo abaixo mostra todas as combinações possíveis entre alguns nomes e sobrenomes:"
      ],
      "metadata": {
        "id": "sUpcGIMZtz6D"
      }
    },
    {
      "cell_type": "code",
      "source": [
        "nomes = ['Ana', 'Bruno', 'Carla', 'Daniel', 'Emília']\n",
        "sobrenomes = ['Silva', 'Oliveira']\n",
        "\n",
        "combinacoes = [nome + ' ' + sobrenome for nome in nomes for sobrenome in sobrenomes]\n",
        "print(combinacoes)"
      ],
      "metadata": {
        "colab": {
          "base_uri": "https://localhost:8080/"
        },
        "id": "Ad-fQQ-Jt9QP",
        "outputId": "07ae3f7f-8d6e-44fe-bf8e-511c7619185a"
      },
      "execution_count": 19,
      "outputs": [
        {
          "output_type": "stream",
          "name": "stdout",
          "text": [
            "['Ana Silva', 'Ana Oliveira', 'Bruno Silva', 'Bruno Oliveira', 'Carla Silva', 'Carla Oliveira', 'Daniel Silva', 'Daniel Oliveira', 'Emília Silva', 'Emília Oliveira']\n"
          ]
        }
      ]
    },
    {
      "cell_type": "code",
      "source": [
        "#A linha combinacoes = [nome + ' ' + sobrenome for nome in nomes for sobrenome in sobrenomes] equivale a:\n",
        "\n",
        "combinacoes = []\n",
        "\n",
        "for nome in nomes:\n",
        "    for sobrenome in sobrenomes:\n",
        "        combinacoes.append(nome + ' ' + sobrenome)"
      ],
      "metadata": {
        "id": "SkUOzzNouK63"
      },
      "execution_count": 20,
      "outputs": []
    },
    {
      "cell_type": "markdown",
      "source": [
        "###Inclusive podemos utilizar essa forma para trabalhar com matrizes. O exemplo abaixo lê pelo teclado a quantidade de vitórias, empates e derrotas para cada time em um grupo:\n",
        "\n"
      ],
      "metadata": {
        "id": "jNMSp-LKuRoH"
      }
    },
    {
      "cell_type": "code",
      "source": [
        "times = ['Atlético Python', 'JavaScript United', 'C Seniors', 'Javeiros do Norte']\n",
        "entradas = ['V', 'E', 'D']\n",
        "\n",
        "tabela = [[int(input(f'Digite a quantidade de {tipo} do time {time}: ')) for tipo in entradas] for time in times]\n",
        "\n",
        "print(tabela)"
      ],
      "metadata": {
        "id": "JV98G_l_vSrY"
      },
      "execution_count": null,
      "outputs": []
    },
    {
      "cell_type": "markdown",
      "source": [
        "##**Compreensão de dicionários**"
      ],
      "metadata": {
        "id": "rUxQ0FGXukso"
      }
    },
    {
      "cell_type": "markdown",
      "source": [
        ">Da mesma forma que utilizamos compreensão para listas, podemos utilizá-la para dicionários. A diferença é que precisamos, obrigatoriamente, passar um par chave-valor"
      ],
      "metadata": {
        "id": "qAQMZW7avCkW"
      }
    },
    {
      "cell_type": "code",
      "source": [
        "chaves = ['nome','idade']\n",
        "valores = ['davi',30]\n",
        "\n",
        "\n",
        "{chaves[i]:valores[i] for i in range(len(valores))}"
      ],
      "metadata": {
        "colab": {
          "base_uri": "https://localhost:8080/"
        },
        "id": "I5VikyZOvFDf",
        "outputId": "94b0cb85-5ee3-4148-f68c-75ccb2adead3"
      },
      "execution_count": 24,
      "outputs": [
        {
          "output_type": "execute_result",
          "data": {
            "text/plain": [
              "{'nome': 'davi', 'idade': 30}"
            ]
          },
          "metadata": {},
          "execution_count": 24
        }
      ]
    },
    {
      "cell_type": "code",
      "source": [
        "#Otimizando o exemplo acima,fazendo a compreensão do dicionário na forma zip:\n",
        "\n",
        "{chave:valor for chave, valor in zip(chaves, valores)}"
      ],
      "metadata": {
        "colab": {
          "base_uri": "https://localhost:8080/"
        },
        "id": "47wG7I8FvKPC",
        "outputId": "1abfad16-3144-44fb-8ee2-ac5fdc7138ab"
      },
      "execution_count": 25,
      "outputs": [
        {
          "output_type": "execute_result",
          "data": {
            "text/plain": [
              "{'nome': 'davi', 'idade': 30}"
            ]
          },
          "metadata": {},
          "execution_count": 25
        }
      ]
    }
  ]
}